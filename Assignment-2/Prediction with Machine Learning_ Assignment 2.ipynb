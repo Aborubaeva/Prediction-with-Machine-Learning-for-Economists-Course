{
 "cells": [
  {
   "cell_type": "markdown",
   "id": "0e06750b",
   "metadata": {},
   "source": [
    "Aizhan Borubaeva\n",
    "\n",
    "Prediction with Machine Learning for Economists\n",
    "\n",
    "2023/24 Fall\n",
    "\n",
    "Assignment 2\n",
    "\n",
    "Below you can find the code for Assignment 2."
   ]
  },
  {
   "cell_type": "markdown",
   "id": "fd803ff7",
   "metadata": {},
   "source": [
    "1. Importing packages:"
   ]
  },
  {
   "cell_type": "code",
   "execution_count": 92,
   "id": "27bbbaaa",
   "metadata": {},
   "outputs": [
    {
     "name": "stdout",
     "output_type": "stream",
     "text": [
      "Collecting shap\n",
      "  Obtaining dependency information for shap from https://files.pythonhosted.org/packages/f5/fc/e81722d6bec4fcba46e46ef895eddaeab0027ac71e78fc35ef351fac5fe4/shap-0.43.0-cp311-cp311-win_amd64.whl.metadata\n",
      "  Downloading shap-0.43.0-cp311-cp311-win_amd64.whl.metadata (24 kB)\n",
      "Requirement already satisfied: numpy in d:\\program files\\lib\\site-packages (from shap) (1.24.3)\n",
      "Requirement already satisfied: scipy in d:\\program files\\lib\\site-packages (from shap) (1.11.1)\n",
      "Requirement already satisfied: scikit-learn in d:\\program files\\lib\\site-packages (from shap) (1.3.0)\n",
      "Requirement already satisfied: pandas in d:\\program files\\lib\\site-packages (from shap) (2.0.3)\n",
      "Requirement already satisfied: tqdm>=4.27.0 in d:\\program files\\lib\\site-packages (from shap) (4.65.0)\n",
      "Requirement already satisfied: packaging>20.9 in d:\\program files\\lib\\site-packages (from shap) (23.1)\n",
      "Collecting slicer==0.0.7 (from shap)\n",
      "  Downloading slicer-0.0.7-py3-none-any.whl (14 kB)\n",
      "Requirement already satisfied: numba in d:\\program files\\lib\\site-packages (from shap) (0.58.1)\n",
      "Requirement already satisfied: cloudpickle in d:\\program files\\lib\\site-packages (from shap) (2.2.1)\n",
      "Requirement already satisfied: colorama in d:\\program files\\lib\\site-packages (from tqdm>=4.27.0->shap) (0.4.6)\n",
      "Requirement already satisfied: llvmlite<0.42,>=0.41.0dev0 in d:\\program files\\lib\\site-packages (from numba->shap) (0.41.1)\n",
      "Requirement already satisfied: python-dateutil>=2.8.2 in d:\\program files\\lib\\site-packages (from pandas->shap) (2.8.2)\n",
      "Requirement already satisfied: pytz>=2020.1 in d:\\program files\\lib\\site-packages (from pandas->shap) (2023.3.post1)\n",
      "Requirement already satisfied: tzdata>=2022.1 in d:\\program files\\lib\\site-packages (from pandas->shap) (2023.3)\n",
      "Requirement already satisfied: joblib>=1.1.1 in d:\\program files\\lib\\site-packages (from scikit-learn->shap) (1.2.0)\n",
      "Requirement already satisfied: threadpoolctl>=2.0.0 in d:\\program files\\lib\\site-packages (from scikit-learn->shap) (2.2.0)\n",
      "Requirement already satisfied: six>=1.5 in d:\\program files\\lib\\site-packages (from python-dateutil>=2.8.2->pandas->shap) (1.16.0)\n",
      "Downloading shap-0.43.0-cp311-cp311-win_amd64.whl (447 kB)\n",
      "   ---------------------------------------- 0.0/447.3 kB ? eta -:--:--\n",
      "   -------------------------------- ------ 368.6/447.3 kB 11.6 MB/s eta 0:00:01\n",
      "   ---------------------------------------- 447.3/447.3 kB 9.5 MB/s eta 0:00:00\n",
      "Installing collected packages: slicer, shap\n",
      "Successfully installed shap-0.43.0 slicer-0.0.7\n"
     ]
    }
   ],
   "source": [
    "import requests\n",
    "import pandas as pd\n",
    "import numpy as np\n",
    "from io import BytesIO\n",
    "import matplotlib.pyplot as plt\n",
    "import gzip\n",
    "import seaborn as sns\n",
    "from sklearn.model_selection import train_test_split\n",
    "from sklearn.linear_model import LinearRegression\n",
    "from datetime import datetime\n",
    "from sklearn.metrics import mean_squared_error, make_scorer\n",
    "from sklearn.model_selection import train_test_split\n",
    "from sklearn.ensemble import RandomForestRegressor\n",
    "from sklearn.metrics import mean_squared_error, r2_score\n",
    "import statsmodels.api as sm\n",
    "!pip install shap\n",
    "import shap"
   ]
  },
  {
   "cell_type": "markdown",
   "id": "b1dc67f9",
   "metadata": {},
   "source": [
    "2. Scraping:"
   ]
  },
  {
   "cell_type": "code",
   "execution_count": 2,
   "id": "7c82b298",
   "metadata": {
    "scrolled": true
   },
   "outputs": [
    {
     "name": "stdout",
     "output_type": "stream",
     "text": [
      "      id                         listing_url       scrape_id last_scraped  \\\n",
      "0   5396   https://www.airbnb.com/rooms/5396  20221210143007   2022-12-11   \n",
      "1   7397   https://www.airbnb.com/rooms/7397  20221210143007   2022-12-11   \n",
      "2   7964   https://www.airbnb.com/rooms/7964  20221210143007   2022-12-11   \n",
      "3   9359   https://www.airbnb.com/rooms/9359  20221210143007   2022-12-11   \n",
      "4  81870  https://www.airbnb.com/rooms/81870  20221210143007   2022-12-11   \n",
      "\n",
      "            source                                             name  \\\n",
      "0      city scrape                   Explore the heart of old Paris   \n",
      "1      city scrape                 MARAIS - 2ROOMS APT - 2/4 PEOPLE   \n",
      "2  previous scrape                Large & sunny flat with balcony !   \n",
      "3      city scrape  Cozy, Central Paris: WALK or VELIB EVERYWHERE !   \n",
      "4  previous scrape                      Saint Germain Musee d'orsay   \n",
      "\n",
      "                                         description  \\\n",
      "0  Cozy, well-appointed and graciously designed s...   \n",
      "1  VERY CONVENIENT, WITH THE BEST LOCATION !<br /...   \n",
      "2  Very large & nice apartment all for you! <br /...   \n",
      "3  Location! Location! Location! Just bring your ...   \n",
      "4  <b>The space</b><br />This beautiful apartment...   \n",
      "\n",
      "                               neighborhood_overview  \\\n",
      "0  You are within walking distance to the Louvre,...   \n",
      "1                                                NaN   \n",
      "2                                                NaN   \n",
      "3                                                NaN   \n",
      "4                                                NaN   \n",
      "\n",
      "                                         picture_url  host_id  ...  \\\n",
      "0  https://a0.muscache.com/pictures/52413/f9bf76f...     7903  ...   \n",
      "1  https://a0.muscache.com/pictures/67928287/330b...     2626  ...   \n",
      "2  https://a0.muscache.com/pictures/4471349/6fb3d...    22155  ...   \n",
      "3  https://a0.muscache.com/pictures/c2965945-061f...    28422  ...   \n",
      "4  https://a0.muscache.com/pictures/558458/3c1263...   152242  ...   \n",
      "\n",
      "  review_scores_communication review_scores_location review_scores_value  \\\n",
      "0                        4.82                   4.95                4.55   \n",
      "1                        4.88                   4.93                4.72   \n",
      "2                        5.00                   5.00                5.00   \n",
      "3                         NaN                    NaN                 NaN   \n",
      "4                        5.00                   5.00                4.00   \n",
      "\n",
      "                                             license instant_bookable  \\\n",
      "0                                      7510402838018                f   \n",
      "1                                      7510400829623                f   \n",
      "2                                      7510903576564                f   \n",
      "3  Available with a mobility lease only (\"bail mo...                f   \n",
      "4                                                NaN                f   \n",
      "\n",
      "  calculated_host_listings_count calculated_host_listings_count_entire_homes  \\\n",
      "0                              1                                           1   \n",
      "1                              2                                           2   \n",
      "2                              1                                           1   \n",
      "3                              1                                           1   \n",
      "4                             78                                          78   \n",
      "\n",
      "  calculated_host_listings_count_private_rooms  \\\n",
      "0                                            0   \n",
      "1                                            0   \n",
      "2                                            0   \n",
      "3                                            0   \n",
      "4                                            0   \n",
      "\n",
      "  calculated_host_listings_count_shared_rooms reviews_per_month  \n",
      "0                                           0              1.98  \n",
      "1                                           0              2.26  \n",
      "2                                           0              0.04  \n",
      "3                                           0               NaN  \n",
      "4                                           0              0.01  \n",
      "\n",
      "[5 rows x 75 columns]\n"
     ]
    }
   ],
   "source": [
    "url = \"http://data.insideairbnb.com/france/ile-de-france/paris/2022-12-10/data/listings.csv.gz\"\n",
    "response = requests.get(url)\n",
    "if response.status_code == 200:\n",
    "    compressed_data = BytesIO(response.content)\n",
    "    with gzip.GzipFile(fileobj=compressed_data, mode='rb') as f:\n",
    "        December2022_data = pd.read_csv(f)\n",
    "    print(December2022_data.head())\n",
    "else:\n",
    "    print(f\"Error: {response.status_code}\")"
   ]
  },
  {
   "cell_type": "markdown",
   "id": "d04c49ad",
   "metadata": {},
   "source": [
    "3) Browsing data"
   ]
  },
  {
   "cell_type": "code",
   "execution_count": 3,
   "id": "09316f9f",
   "metadata": {},
   "outputs": [
    {
     "name": "stdout",
     "output_type": "stream",
     "text": [
      "Index(['id', 'listing_url', 'scrape_id', 'last_scraped', 'source', 'name',\n",
      "       'description', 'neighborhood_overview', 'picture_url', 'host_id',\n",
      "       'host_url', 'host_name', 'host_since', 'host_location', 'host_about',\n",
      "       'host_response_time', 'host_response_rate', 'host_acceptance_rate',\n",
      "       'host_is_superhost', 'host_thumbnail_url', 'host_picture_url',\n",
      "       'host_neighbourhood', 'host_listings_count',\n",
      "       'host_total_listings_count', 'host_verifications',\n",
      "       'host_has_profile_pic', 'host_identity_verified', 'neighbourhood',\n",
      "       'neighbourhood_cleansed', 'neighbourhood_group_cleansed', 'latitude',\n",
      "       'longitude', 'property_type', 'room_type', 'accommodates', 'bathrooms',\n",
      "       'bathrooms_text', 'bedrooms', 'beds', 'amenities', 'price',\n",
      "       'minimum_nights', 'maximum_nights', 'minimum_minimum_nights',\n",
      "       'maximum_minimum_nights', 'minimum_maximum_nights',\n",
      "       'maximum_maximum_nights', 'minimum_nights_avg_ntm',\n",
      "       'maximum_nights_avg_ntm', 'calendar_updated', 'has_availability',\n",
      "       'availability_30', 'availability_60', 'availability_90',\n",
      "       'availability_365', 'calendar_last_scraped', 'number_of_reviews',\n",
      "       'number_of_reviews_ltm', 'number_of_reviews_l30d', 'first_review',\n",
      "       'last_review', 'review_scores_rating', 'review_scores_accuracy',\n",
      "       'review_scores_cleanliness', 'review_scores_checkin',\n",
      "       'review_scores_communication', 'review_scores_location',\n",
      "       'review_scores_value', 'license', 'instant_bookable',\n",
      "       'calculated_host_listings_count',\n",
      "       'calculated_host_listings_count_entire_homes',\n",
      "       'calculated_host_listings_count_private_rooms',\n",
      "       'calculated_host_listings_count_shared_rooms', 'reviews_per_month'],\n",
      "      dtype='object')\n"
     ]
    }
   ],
   "source": [
    "print(December2022_data.columns)"
   ]
  },
  {
   "cell_type": "markdown",
   "id": "01e20505",
   "metadata": {},
   "source": [
    "4) Dropping missing variables for price and dropping unnecessary collumns"
   ]
  },
  {
   "cell_type": "code",
   "execution_count": 4,
   "id": "cdfa0282",
   "metadata": {},
   "outputs": [],
   "source": [
    "December2022_data.dropna(subset=['price'], inplace=True)"
   ]
  },
  {
   "cell_type": "code",
   "execution_count": 5,
   "id": "b40cf487",
   "metadata": {},
   "outputs": [],
   "source": [
    "December2022_data = December2022_data.drop(['id', 'listing_url', 'scrape_id', 'last_scraped', 'source', 'name',\n",
    "       'description', 'neighborhood_overview', 'picture_url', 'host_id', 'bedrooms',\n",
    "       'host_url', 'host_name', 'host_since', 'host_location', 'host_about',\n",
    "       'host_response_time', 'host_response_rate', 'host_acceptance_rate',\n",
    "       'host_thumbnail_url', 'host_picture_url','host_neighbourhood',\n",
    "       'host_total_listings_count', 'host_verifications','host_has_profile_pic', \n",
    "       'host_identity_verified', 'neighbourhood', 'neighbourhood_group_cleansed',\n",
    "       'latitude', 'longitude','bathrooms', 'bathrooms_text', 'amenities', \n",
    "       'minimum_minimum_nights','maximum_minimum_nights', 'minimum_maximum_nights',\n",
    "       'maximum_maximum_nights', 'minimum_nights_avg_ntm','maximum_nights_avg_ntm',\n",
    "       'calendar_updated', 'availability_30', 'availability_60', 'availability_90',\n",
    "       'availability_365', 'first_review', 'last_review', \n",
    "       'calendar_last_scraped', 'number_of_reviews_l30d', 'license' ], axis=1)"
   ]
  },
  {
   "cell_type": "markdown",
   "id": "f405c91c",
   "metadata": {},
   "source": [
    "5) Browse left columns"
   ]
  },
  {
   "cell_type": "code",
   "execution_count": 6,
   "id": "a87e25d4",
   "metadata": {},
   "outputs": [
    {
     "name": "stdout",
     "output_type": "stream",
     "text": [
      "Index(['host_is_superhost', 'host_listings_count', 'neighbourhood_cleansed',\n",
      "       'property_type', 'room_type', 'accommodates', 'beds', 'price',\n",
      "       'minimum_nights', 'maximum_nights', 'has_availability',\n",
      "       'number_of_reviews', 'number_of_reviews_ltm', 'review_scores_rating',\n",
      "       'review_scores_accuracy', 'review_scores_cleanliness',\n",
      "       'review_scores_checkin', 'review_scores_communication',\n",
      "       'review_scores_location', 'review_scores_value', 'instant_bookable',\n",
      "       'calculated_host_listings_count',\n",
      "       'calculated_host_listings_count_entire_homes',\n",
      "       'calculated_host_listings_count_private_rooms',\n",
      "       'calculated_host_listings_count_shared_rooms', 'reviews_per_month'],\n",
      "      dtype='object')\n"
     ]
    }
   ],
   "source": [
    "print(December2022_data.columns)"
   ]
  },
  {
   "cell_type": "markdown",
   "id": "129280db",
   "metadata": {},
   "source": [
    "6. Check room types, dropping unnecessary"
   ]
  },
  {
   "cell_type": "code",
   "execution_count": 7,
   "id": "94de7d18",
   "metadata": {},
   "outputs": [
    {
     "name": "stdout",
     "output_type": "stream",
     "text": [
      "room_type\n",
      "Entire home/apt    46785\n",
      "Private room        7048\n",
      "Hotel room           985\n",
      "Shared room          286\n",
      "Name: count, dtype: int64\n"
     ]
    }
   ],
   "source": [
    "print(December2022_data['room_type'].value_counts())"
   ]
  },
  {
   "cell_type": "code",
   "execution_count": 8,
   "id": "a6f3eccb",
   "metadata": {},
   "outputs": [],
   "source": [
    "December2022_data = December2022_data[December2022_data['room_type'] == 'Entire home/apt']"
   ]
  },
  {
   "cell_type": "code",
   "execution_count": 10,
   "id": "a03e756c",
   "metadata": {},
   "outputs": [
    {
     "name": "stdout",
     "output_type": "stream",
     "text": [
      "room_type\n",
      "Entire home/apt    46785\n",
      "Name: count, dtype: int64\n"
     ]
    }
   ],
   "source": [
    "print(December2022_data['room_type'].value_counts())"
   ]
  },
  {
   "cell_type": "code",
   "execution_count": 11,
   "id": "cd673725",
   "metadata": {},
   "outputs": [],
   "source": [
    "December2022_data = December2022_data.drop(['room_type'], axis=1)"
   ]
  },
  {
   "cell_type": "markdown",
   "id": "7c1c9d1b",
   "metadata": {},
   "source": [
    "7. Keep only data for accomodates from 2 till 6 according to assignment instructions, keep 'property_type' == 'Entire rental unit' or 'Entire condo' or 'Entire loft' or 'Entire serviced apartment'"
   ]
  },
  {
   "cell_type": "code",
   "execution_count": 12,
   "id": "2dc54105",
   "metadata": {},
   "outputs": [],
   "source": [
    "December2022_data = December2022_data[(December2022_data['accommodates'] >= 2) & (December2022_data['accommodates'] <= 6)]"
   ]
  },
  {
   "cell_type": "code",
   "execution_count": 13,
   "id": "47ee041f",
   "metadata": {},
   "outputs": [
    {
     "name": "stdout",
     "output_type": "stream",
     "text": [
      "property_type\n",
      "Entire rental unit           40360\n",
      "Entire condo                  2185\n",
      "Entire loft                    843\n",
      "Entire serviced apartment      383\n",
      "Entire home                    179\n",
      "Entire townhouse               119\n",
      "Entire vacation home            46\n",
      "Room in aparthotel              38\n",
      "Entire place                    27\n",
      "Entire guesthouse               21\n",
      "Entire guest suite              15\n",
      "Tiny home                       15\n",
      "Entire villa                     9\n",
      "Boat                             6\n",
      "Entire home/apt                  4\n",
      "Houseboat                        3\n",
      "Room in boutique hotel           2\n",
      "Casa particular                  2\n",
      "Cave                             1\n",
      "Entire bed and breakfast         1\n",
      "Earthen home                     1\n",
      "Island                           1\n",
      "Camper/RV                        1\n",
      "Entire bungalow                  1\n",
      "Bus                              1\n",
      "Entire cabin                     1\n",
      "Name: count, dtype: int64\n"
     ]
    }
   ],
   "source": [
    "print(December2022_data['property_type'].value_counts())"
   ]
  },
  {
   "cell_type": "code",
   "execution_count": 16,
   "id": "45ef43fa",
   "metadata": {},
   "outputs": [],
   "source": [
    "December2022_data = December2022_data[\n",
    "    (December2022_data['property_type'] == 'Entire rental unit') |\n",
    "    (December2022_data['property_type'] == 'Entire condo') |\n",
    "    (December2022_data['property_type'] == 'Entire loft') |\n",
    "    (December2022_data['property_type'] == 'Entire serviced apartment')]"
   ]
  },
  {
   "cell_type": "code",
   "execution_count": 17,
   "id": "94c010c3",
   "metadata": {},
   "outputs": [
    {
     "name": "stdout",
     "output_type": "stream",
     "text": [
      "price\n",
      "$100.00      1741\n",
      "$80.00       1571\n",
      "$90.00       1478\n",
      "$70.00       1382\n",
      "$120.00      1372\n",
      "             ... \n",
      "$849.00         1\n",
      "$945.00         1\n",
      "$978.00         1\n",
      "$1,983.00       1\n",
      "$2,038.00       1\n",
      "Name: count, Length: 968, dtype: int64\n"
     ]
    }
   ],
   "source": [
    "print(December2022_data['price'].value_counts())"
   ]
  },
  {
   "cell_type": "code",
   "execution_count": 18,
   "id": "d38e9a6a",
   "metadata": {},
   "outputs": [
    {
     "name": "stdout",
     "output_type": "stream",
     "text": [
      "<class 'pandas.core.frame.DataFrame'>\n",
      "Index: 43771 entries, 0 to 55103\n",
      "Data columns (total 25 columns):\n",
      " #   Column                                        Non-Null Count  Dtype  \n",
      "---  ------                                        --------------  -----  \n",
      " 0   host_is_superhost                             43770 non-null  object \n",
      " 1   host_listings_count                           43756 non-null  float64\n",
      " 2   neighbourhood_cleansed                        43771 non-null  object \n",
      " 3   property_type                                 43771 non-null  object \n",
      " 4   accommodates                                  43771 non-null  int64  \n",
      " 5   beds                                          43451 non-null  float64\n",
      " 6   price                                         43771 non-null  object \n",
      " 7   minimum_nights                                43771 non-null  int64  \n",
      " 8   maximum_nights                                43771 non-null  int64  \n",
      " 9   has_availability                              43771 non-null  object \n",
      " 10  number_of_reviews                             43771 non-null  int64  \n",
      " 11  number_of_reviews_ltm                         43771 non-null  int64  \n",
      " 12  review_scores_rating                          35768 non-null  float64\n",
      " 13  review_scores_accuracy                        35348 non-null  float64\n",
      " 14  review_scores_cleanliness                     35352 non-null  float64\n",
      " 15  review_scores_checkin                         35341 non-null  float64\n",
      " 16  review_scores_communication                   35348 non-null  float64\n",
      " 17  review_scores_location                        35339 non-null  float64\n",
      " 18  review_scores_value                           35337 non-null  float64\n",
      " 19  instant_bookable                              43771 non-null  object \n",
      " 20  calculated_host_listings_count                43771 non-null  int64  \n",
      " 21  calculated_host_listings_count_entire_homes   43771 non-null  int64  \n",
      " 22  calculated_host_listings_count_private_rooms  43771 non-null  int64  \n",
      " 23  calculated_host_listings_count_shared_rooms   43771 non-null  int64  \n",
      " 24  reviews_per_month                             35768 non-null  float64\n",
      "dtypes: float64(10), int64(9), object(6)\n",
      "memory usage: 8.7+ MB\n",
      "None\n"
     ]
    }
   ],
   "source": [
    "print(December2022_data.info())"
   ]
  },
  {
   "cell_type": "markdown",
   "id": "8a420e9b",
   "metadata": {},
   "source": [
    "8. Fill NaN values"
   ]
  },
  {
   "cell_type": "code",
   "execution_count": 19,
   "id": "52ef0475",
   "metadata": {},
   "outputs": [],
   "source": [
    "for var in [\"flag_review_scores_rating\"]:\n",
    "    December2022_data[var] = [int(x) for x in  December2022_data[var.replace(\"flag_review\", \"review\")].isna()]"
   ]
  },
  {
   "cell_type": "code",
   "execution_count": 21,
   "id": "fb7e3e06",
   "metadata": {},
   "outputs": [],
   "source": [
    "December2022_data.loc[:, \"review_scores_rating\"] = December2022_data[\"review_scores_rating\"].fillna(np.nanmedian(December2022_data[\"review_scores_rating\"]))"
   ]
  },
  {
   "cell_type": "code",
   "execution_count": 22,
   "id": "bf752c9c",
   "metadata": {},
   "outputs": [
    {
     "name": "stdout",
     "output_type": "stream",
     "text": [
      "<class 'pandas.core.frame.DataFrame'>\n",
      "Index: 43771 entries, 0 to 55103\n",
      "Data columns (total 26 columns):\n",
      " #   Column                                        Non-Null Count  Dtype  \n",
      "---  ------                                        --------------  -----  \n",
      " 0   host_is_superhost                             43770 non-null  object \n",
      " 1   host_listings_count                           43756 non-null  float64\n",
      " 2   neighbourhood_cleansed                        43771 non-null  object \n",
      " 3   property_type                                 43771 non-null  object \n",
      " 4   accommodates                                  43771 non-null  int64  \n",
      " 5   beds                                          43451 non-null  float64\n",
      " 6   price                                         43771 non-null  object \n",
      " 7   minimum_nights                                43771 non-null  int64  \n",
      " 8   maximum_nights                                43771 non-null  int64  \n",
      " 9   has_availability                              43771 non-null  object \n",
      " 10  number_of_reviews                             43771 non-null  int64  \n",
      " 11  number_of_reviews_ltm                         43771 non-null  int64  \n",
      " 12  review_scores_rating                          43771 non-null  float64\n",
      " 13  review_scores_accuracy                        35348 non-null  float64\n",
      " 14  review_scores_cleanliness                     35352 non-null  float64\n",
      " 15  review_scores_checkin                         35341 non-null  float64\n",
      " 16  review_scores_communication                   35348 non-null  float64\n",
      " 17  review_scores_location                        35339 non-null  float64\n",
      " 18  review_scores_value                           35337 non-null  float64\n",
      " 19  instant_bookable                              43771 non-null  object \n",
      " 20  calculated_host_listings_count                43771 non-null  int64  \n",
      " 21  calculated_host_listings_count_entire_homes   43771 non-null  int64  \n",
      " 22  calculated_host_listings_count_private_rooms  43771 non-null  int64  \n",
      " 23  calculated_host_listings_count_shared_rooms   43771 non-null  int64  \n",
      " 24  reviews_per_month                             35768 non-null  float64\n",
      " 25  flag_review_scores_rating                     43771 non-null  int64  \n",
      "dtypes: float64(10), int64(10), object(6)\n",
      "memory usage: 9.0+ MB\n",
      "None\n"
     ]
    }
   ],
   "source": [
    "print(December2022_data.info())"
   ]
  },
  {
   "cell_type": "code",
   "execution_count": 23,
   "id": "f8d1bbe2",
   "metadata": {},
   "outputs": [
    {
     "name": "stdout",
     "output_type": "stream",
     "text": [
      "count    43771.000000\n",
      "mean         0.182838\n",
      "std          0.386538\n",
      "min          0.000000\n",
      "25%          0.000000\n",
      "50%          0.000000\n",
      "75%          0.000000\n",
      "max          1.000000\n",
      "Name: flag_review_scores_rating, dtype: float64\n"
     ]
    }
   ],
   "source": [
    "print(December2022_data['flag_review_scores_rating'].describe())"
   ]
  },
  {
   "cell_type": "markdown",
   "id": "085c160b",
   "metadata": {},
   "source": [
    "9. Sorting price, overview, drop extreme values"
   ]
  },
  {
   "cell_type": "code",
   "execution_count": 24,
   "id": "59e1b20d",
   "metadata": {},
   "outputs": [
    {
     "name": "stdout",
     "output_type": "stream",
     "text": [
      "0     93.0\n",
      "1    119.0\n",
      "2    130.0\n",
      "4    145.0\n",
      "5    140.0\n",
      "Name: price, dtype: float64\n"
     ]
    }
   ],
   "source": [
    "December2022_data['price'] = December2022_data['price'].replace('[\\$,]', '', regex=True).astype(float)\n",
    "print(December2022_data['price'].head())"
   ]
  },
  {
   "cell_type": "code",
   "execution_count": 25,
   "id": "b49b7689",
   "metadata": {},
   "outputs": [
    {
     "name": "stdout",
     "output_type": "stream",
     "text": [
      "count    43771.000000\n",
      "mean       157.960625\n",
      "std        581.055713\n",
      "min          9.000000\n",
      "25%         77.000000\n",
      "50%        110.000000\n",
      "75%        167.000000\n",
      "max      99140.000000\n",
      "Name: price, dtype: float64\n"
     ]
    }
   ],
   "source": [
    "print(December2022_data['price'].describe())"
   ]
  },
  {
   "cell_type": "code",
   "execution_count": 26,
   "id": "c0f901ae",
   "metadata": {},
   "outputs": [],
   "source": [
    "December2022_data = December2022_data[(December2022_data['price'] <= 1500)]"
   ]
  },
  {
   "cell_type": "code",
   "execution_count": 27,
   "id": "8ac0362f",
   "metadata": {},
   "outputs": [],
   "source": [
    "December2022_data[\"beds\"] = December2022_data[\"beds\"].fillna(December2022_data[\"accommodates\"])"
   ]
  },
  {
   "cell_type": "code",
   "execution_count": 28,
   "id": "ce5707c2",
   "metadata": {},
   "outputs": [
    {
     "data": {
      "image/png": "[encoded data removed]",
      "text/plain": [
       "<Figure size 640x480 with 1 Axes>"
      ]
     },
     "metadata": {},
     "output_type": "display_data"
    }
   ],
   "source": [
    "plt.hist(December2022_data['price'], bins=100, edgecolor='black')\n",
    "plt.title('Histogram of Prices')\n",
    "plt.xlabel('Price')\n",
    "plt.ylabel('Frequency')\n",
    "plt.show()"
   ]
  },
  {
   "cell_type": "markdown",
   "id": "bb32fab2",
   "metadata": {},
   "source": [
    "10. Create dummies for categorical variables"
   ]
  },
  {
   "cell_type": "code",
   "execution_count": 31,
   "id": "f7ee3cfc",
   "metadata": {},
   "outputs": [],
   "source": [
    "categorical_columns = December2022_data.select_dtypes(include='object').columns\n",
    "December2022_data = pd.get_dummies(December2022_data, columns=categorical_columns, drop_first=True)"
   ]
  },
  {
   "cell_type": "markdown",
   "id": "50cf1d8f",
   "metadata": {},
   "source": [
    "11. Change all data to numeric variables to avoid data errors later, dropped missing variables to avoid future errors in models (Random Forest, Boosting)\n"
   ]
  },
  {
   "cell_type": "code",
   "execution_count": 33,
   "id": "8fcc64ee",
   "metadata": {},
   "outputs": [],
   "source": [
    "December2022_data_numeric = December2022_data.apply(pd.to_numeric, errors='coerce')\n",
    "December2022_data_numeric = December2022_data_numeric.dropna()"
   ]
  },
  {
   "cell_type": "code",
   "execution_count": 34,
   "id": "5df8d47e",
   "metadata": {},
   "outputs": [
    {
     "name": "stdout",
     "output_type": "stream",
     "text": [
      "Index(['host_listings_count', 'accommodates', 'beds', 'price',\n",
      "       'minimum_nights', 'maximum_nights', 'number_of_reviews',\n",
      "       'number_of_reviews_ltm', 'review_scores_rating',\n",
      "       'review_scores_accuracy', 'review_scores_cleanliness',\n",
      "       'review_scores_checkin', 'review_scores_communication',\n",
      "       'review_scores_location', 'review_scores_value',\n",
      "       'calculated_host_listings_count',\n",
      "       'calculated_host_listings_count_entire_homes',\n",
      "       'calculated_host_listings_count_private_rooms',\n",
      "       'calculated_host_listings_count_shared_rooms', 'reviews_per_month',\n",
      "       'flag_review_scores_rating', 'host_is_superhost_t',\n",
      "       'neighbourhood_cleansed_Bourse',\n",
      "       'neighbourhood_cleansed_Buttes-Chaumont',\n",
      "       'neighbourhood_cleansed_Buttes-Montmartre',\n",
      "       'neighbourhood_cleansed_Entrepôt', 'neighbourhood_cleansed_Gobelins',\n",
      "       'neighbourhood_cleansed_Hôtel-de-Ville',\n",
      "       'neighbourhood_cleansed_Louvre', 'neighbourhood_cleansed_Luxembourg',\n",
      "       'neighbourhood_cleansed_Ménilmontant',\n",
      "       'neighbourhood_cleansed_Observatoire', 'neighbourhood_cleansed_Opéra',\n",
      "       'neighbourhood_cleansed_Palais-Bourbon',\n",
      "       'neighbourhood_cleansed_Panthéon', 'neighbourhood_cleansed_Passy',\n",
      "       'neighbourhood_cleansed_Popincourt', 'neighbourhood_cleansed_Reuilly',\n",
      "       'neighbourhood_cleansed_Temple', 'neighbourhood_cleansed_Vaugirard',\n",
      "       'neighbourhood_cleansed_Élysée', 'property_type_Entire loft',\n",
      "       'property_type_Entire rental unit',\n",
      "       'property_type_Entire serviced apartment', 'has_availability_t',\n",
      "       'instant_bookable_t'],\n",
      "      dtype='object')\n",
      "<bound method NDFrame.head of        host_listings_count  accommodates  beds  price  minimum_nights  \\\n",
      "0                      1.0             2   1.0   93.0               1   \n",
      "1                      2.0             4   2.0  119.0              10   \n",
      "2                      1.0             2   1.0  130.0               6   \n",
      "4                     86.0             2   1.0  145.0             365   \n",
      "5                      1.0             2   1.0  140.0               4   \n",
      "...                    ...           ...   ...    ...             ...   \n",
      "55099                  1.0             4   1.0  280.0               4   \n",
      "55100                  1.0             6   3.0  139.0               1   \n",
      "55101                 93.0             2   1.0  145.0               2   \n",
      "55102                  5.0             2   1.0  184.0               5   \n",
      "55103                  1.0             2   2.0   85.0               1   \n",
      "\n",
      "       maximum_nights  number_of_reviews  number_of_reviews_ltm  \\\n",
      "0                1125                324                     49   \n",
      "1                 130                321                     33   \n",
      "2                 365                  6                      0   \n",
      "4                 365                  1                      0   \n",
      "5                  31                 43                     10   \n",
      "...               ...                ...                    ...   \n",
      "55099             365                  0                      0   \n",
      "55100             365                  0                      0   \n",
      "55101            1125                  0                      0   \n",
      "55102             365                  0                      0   \n",
      "55103             365                  0                      0   \n",
      "\n",
      "       review_scores_rating  review_scores_accuracy  ...  \\\n",
      "0                      4.55                    4.58  ...   \n",
      "1                      4.72                    4.80  ...   \n",
      "2                      4.80                    5.00  ...   \n",
      "4                      5.00                    5.00  ...   \n",
      "5                      4.91                    4.98  ...   \n",
      "...                     ...                     ...  ...   \n",
      "55099                  4.79                     NaN  ...   \n",
      "55100                  4.79                     NaN  ...   \n",
      "55101                  4.79                     NaN  ...   \n",
      "55102                  4.79                     NaN  ...   \n",
      "55103                  4.79                     NaN  ...   \n",
      "\n",
      "       neighbourhood_cleansed_Popincourt  neighbourhood_cleansed_Reuilly  \\\n",
      "0                                  False                           False   \n",
      "1                                  False                           False   \n",
      "2                                  False                           False   \n",
      "4                                  False                           False   \n",
      "5                                   True                           False   \n",
      "...                                  ...                             ...   \n",
      "55099                               True                           False   \n",
      "55100                              False                           False   \n",
      "55101                              False                           False   \n",
      "55102                              False                           False   \n",
      "55103                              False                           False   \n",
      "\n",
      "       neighbourhood_cleansed_Temple  neighbourhood_cleansed_Vaugirard  \\\n",
      "0                              False                             False   \n",
      "1                              False                             False   \n",
      "2                              False                             False   \n",
      "4                              False                             False   \n",
      "5                              False                             False   \n",
      "...                              ...                               ...   \n",
      "55099                          False                             False   \n",
      "55100                          False                              True   \n",
      "55101                          False                             False   \n",
      "55102                          False                             False   \n",
      "55103                          False                             False   \n",
      "\n",
      "       neighbourhood_cleansed_Élysée  property_type_Entire loft  \\\n",
      "0                              False                      False   \n",
      "1                              False                      False   \n",
      "2                              False                      False   \n",
      "4                              False                      False   \n",
      "5                              False                      False   \n",
      "...                              ...                        ...   \n",
      "55099                          False                      False   \n",
      "55100                          False                      False   \n",
      "55101                          False                      False   \n",
      "55102                          False                      False   \n",
      "55103                          False                      False   \n",
      "\n",
      "       property_type_Entire rental unit  \\\n",
      "0                                  True   \n",
      "1                                  True   \n",
      "2                                  True   \n",
      "4                                  True   \n",
      "5                                  True   \n",
      "...                                 ...   \n",
      "55099                              True   \n",
      "55100                              True   \n",
      "55101                              True   \n",
      "55102                              True   \n",
      "55103                              True   \n",
      "\n",
      "       property_type_Entire serviced apartment  has_availability_t  \\\n",
      "0                                        False                True   \n",
      "1                                        False                True   \n",
      "2                                        False                True   \n",
      "4                                        False                True   \n",
      "5                                        False                True   \n",
      "...                                        ...                 ...   \n",
      "55099                                    False               False   \n",
      "55100                                    False                True   \n",
      "55101                                    False                True   \n",
      "55102                                    False               False   \n",
      "55103                                    False                True   \n",
      "\n",
      "       instant_bookable_t  \n",
      "0                   False  \n",
      "1                   False  \n",
      "2                   False  \n",
      "4                   False  \n",
      "5                   False  \n",
      "...                   ...  \n",
      "55099               False  \n",
      "55100               False  \n",
      "55101               False  \n",
      "55102               False  \n",
      "55103               False  \n",
      "\n",
      "[43593 rows x 46 columns]>\n"
     ]
    }
   ],
   "source": [
    "print(December2022_data.columns)\n",
    "print(December2022_data.head)"
   ]
  },
  {
   "cell_type": "code",
   "execution_count": 35,
   "id": "0e94d6d0",
   "metadata": {},
   "outputs": [
    {
     "name": "stdout",
     "output_type": "stream",
     "text": [
      "35218\n"
     ]
    }
   ],
   "source": [
    "December2022_data = December2022_data.dropna()\n",
    "print(len(December2022_data))"
   ]
  },
  {
   "cell_type": "markdown",
   "id": "2e4e43f1",
   "metadata": {},
   "source": [
    "12. Used random seed and split data to training and test datasets "
   ]
  },
  {
   "cell_type": "code",
   "execution_count": null,
   "id": "7cc08764",
   "metadata": {},
   "outputs": [],
   "source": [
    "np.random.seed(20180123)"
   ]
  },
  {
   "cell_type": "code",
   "execution_count": 37,
   "id": "cf66f4b0",
   "metadata": {},
   "outputs": [
    {
     "name": "stdout",
     "output_type": "stream",
     "text": [
      "28174\n"
     ]
    }
   ],
   "source": [
    "train_data_December, test_data_December = train_test_split(December2022_data, test_size=0.2, random_state=20)\n",
    "print(len(train_data_December)) #for checking"
   ]
  },
  {
   "cell_type": "code",
   "execution_count": 38,
   "id": "8fd3e29d",
   "metadata": {},
   "outputs": [
    {
     "data": {
      "text/html": [
       "<div>\n",
       "<style scoped>\n",
       "    .dataframe tbody tr th:only-of-type {\n",
       "        vertical-align: middle;\n",
       "    }\n",
       "\n",
       "    .dataframe tbody tr th {\n",
       "        vertical-align: top;\n",
       "    }\n",
       "\n",
       "    .dataframe thead th {\n",
       "        text-align: right;\n",
       "    }\n",
       "</style>\n",
       "<table border=\"1\" class=\"dataframe\">\n",
       "  <thead>\n",
       "    <tr style=\"text-align: right;\">\n",
       "      <th></th>\n",
       "      <th>host_listings_count</th>\n",
       "      <th>accommodates</th>\n",
       "      <th>beds</th>\n",
       "      <th>price</th>\n",
       "      <th>minimum_nights</th>\n",
       "      <th>maximum_nights</th>\n",
       "      <th>number_of_reviews</th>\n",
       "      <th>number_of_reviews_ltm</th>\n",
       "      <th>review_scores_rating</th>\n",
       "      <th>review_scores_accuracy</th>\n",
       "      <th>...</th>\n",
       "      <th>review_scores_checkin</th>\n",
       "      <th>review_scores_communication</th>\n",
       "      <th>review_scores_location</th>\n",
       "      <th>review_scores_value</th>\n",
       "      <th>calculated_host_listings_count</th>\n",
       "      <th>calculated_host_listings_count_entire_homes</th>\n",
       "      <th>calculated_host_listings_count_private_rooms</th>\n",
       "      <th>calculated_host_listings_count_shared_rooms</th>\n",
       "      <th>reviews_per_month</th>\n",
       "      <th>flag_review_scores_rating</th>\n",
       "    </tr>\n",
       "  </thead>\n",
       "  <tbody>\n",
       "    <tr>\n",
       "      <th>count</th>\n",
       "      <td>28174.000000</td>\n",
       "      <td>28174.000000</td>\n",
       "      <td>28174.000000</td>\n",
       "      <td>28174.000000</td>\n",
       "      <td>28174.000000</td>\n",
       "      <td>28174.000000</td>\n",
       "      <td>28174.000000</td>\n",
       "      <td>28174.000000</td>\n",
       "      <td>28174.000000</td>\n",
       "      <td>28174.000000</td>\n",
       "      <td>...</td>\n",
       "      <td>28174.000000</td>\n",
       "      <td>28174.000000</td>\n",
       "      <td>28174.000000</td>\n",
       "      <td>28174.000000</td>\n",
       "      <td>28174.000000</td>\n",
       "      <td>28174.000000</td>\n",
       "      <td>28174.000000</td>\n",
       "      <td>28174.000000</td>\n",
       "      <td>28174.000000</td>\n",
       "      <td>28174.0</td>\n",
       "    </tr>\n",
       "    <tr>\n",
       "      <th>mean</th>\n",
       "      <td>17.200575</td>\n",
       "      <td>3.067580</td>\n",
       "      <td>1.685029</td>\n",
       "      <td>142.816429</td>\n",
       "      <td>78.477994</td>\n",
       "      <td>660.432384</td>\n",
       "      <td>27.673919</td>\n",
       "      <td>8.331511</td>\n",
       "      <td>4.665093</td>\n",
       "      <td>4.756831</td>\n",
       "      <td>...</td>\n",
       "      <td>4.782066</td>\n",
       "      <td>4.800564</td>\n",
       "      <td>4.804288</td>\n",
       "      <td>4.599861</td>\n",
       "      <td>11.129943</td>\n",
       "      <td>11.055761</td>\n",
       "      <td>0.054163</td>\n",
       "      <td>0.000568</td>\n",
       "      <td>1.031549</td>\n",
       "      <td>0.0</td>\n",
       "    </tr>\n",
       "    <tr>\n",
       "      <th>std</th>\n",
       "      <td>74.152677</td>\n",
       "      <td>1.252596</td>\n",
       "      <td>0.878502</td>\n",
       "      <td>116.835912</td>\n",
       "      <td>144.737168</td>\n",
       "      <td>707.147164</td>\n",
       "      <td>47.341196</td>\n",
       "      <td>13.052243</td>\n",
       "      <td>0.449726</td>\n",
       "      <td>0.410277</td>\n",
       "      <td>...</td>\n",
       "      <td>0.412846</td>\n",
       "      <td>0.403729</td>\n",
       "      <td>0.339095</td>\n",
       "      <td>0.463386</td>\n",
       "      <td>35.044186</td>\n",
       "      <td>34.930077</td>\n",
       "      <td>0.559312</td>\n",
       "      <td>0.025270</td>\n",
       "      <td>1.267079</td>\n",
       "      <td>0.0</td>\n",
       "    </tr>\n",
       "    <tr>\n",
       "      <th>min</th>\n",
       "      <td>1.000000</td>\n",
       "      <td>2.000000</td>\n",
       "      <td>1.000000</td>\n",
       "      <td>10.000000</td>\n",
       "      <td>1.000000</td>\n",
       "      <td>1.000000</td>\n",
       "      <td>1.000000</td>\n",
       "      <td>0.000000</td>\n",
       "      <td>0.000000</td>\n",
       "      <td>0.000000</td>\n",
       "      <td>...</td>\n",
       "      <td>0.000000</td>\n",
       "      <td>0.000000</td>\n",
       "      <td>0.000000</td>\n",
       "      <td>0.000000</td>\n",
       "      <td>1.000000</td>\n",
       "      <td>1.000000</td>\n",
       "      <td>0.000000</td>\n",
       "      <td>0.000000</td>\n",
       "      <td>0.010000</td>\n",
       "      <td>0.0</td>\n",
       "    </tr>\n",
       "    <tr>\n",
       "      <th>25%</th>\n",
       "      <td>1.000000</td>\n",
       "      <td>2.000000</td>\n",
       "      <td>1.000000</td>\n",
       "      <td>79.000000</td>\n",
       "      <td>2.000000</td>\n",
       "      <td>62.000000</td>\n",
       "      <td>4.000000</td>\n",
       "      <td>0.000000</td>\n",
       "      <td>4.530000</td>\n",
       "      <td>4.680000</td>\n",
       "      <td>...</td>\n",
       "      <td>4.750000</td>\n",
       "      <td>4.760000</td>\n",
       "      <td>4.750000</td>\n",
       "      <td>4.500000</td>\n",
       "      <td>1.000000</td>\n",
       "      <td>1.000000</td>\n",
       "      <td>0.000000</td>\n",
       "      <td>0.000000</td>\n",
       "      <td>0.170000</td>\n",
       "      <td>0.0</td>\n",
       "    </tr>\n",
       "    <tr>\n",
       "      <th>50%</th>\n",
       "      <td>1.000000</td>\n",
       "      <td>2.000000</td>\n",
       "      <td>1.000000</td>\n",
       "      <td>110.000000</td>\n",
       "      <td>3.000000</td>\n",
       "      <td>1125.000000</td>\n",
       "      <td>11.000000</td>\n",
       "      <td>3.000000</td>\n",
       "      <td>4.790000</td>\n",
       "      <td>4.880000</td>\n",
       "      <td>...</td>\n",
       "      <td>4.920000</td>\n",
       "      <td>4.940000</td>\n",
       "      <td>4.910000</td>\n",
       "      <td>4.710000</td>\n",
       "      <td>1.000000</td>\n",
       "      <td>1.000000</td>\n",
       "      <td>0.000000</td>\n",
       "      <td>0.000000</td>\n",
       "      <td>0.560000</td>\n",
       "      <td>0.0</td>\n",
       "    </tr>\n",
       "    <tr>\n",
       "      <th>75%</th>\n",
       "      <td>2.000000</td>\n",
       "      <td>4.000000</td>\n",
       "      <td>2.000000</td>\n",
       "      <td>168.000000</td>\n",
       "      <td>30.000000</td>\n",
       "      <td>1125.000000</td>\n",
       "      <td>30.000000</td>\n",
       "      <td>11.000000</td>\n",
       "      <td>5.000000</td>\n",
       "      <td>5.000000</td>\n",
       "      <td>...</td>\n",
       "      <td>5.000000</td>\n",
       "      <td>5.000000</td>\n",
       "      <td>5.000000</td>\n",
       "      <td>4.880000</td>\n",
       "      <td>1.000000</td>\n",
       "      <td>1.000000</td>\n",
       "      <td>0.000000</td>\n",
       "      <td>0.000000</td>\n",
       "      <td>1.390000</td>\n",
       "      <td>0.0</td>\n",
       "    </tr>\n",
       "    <tr>\n",
       "      <th>max</th>\n",
       "      <td>1852.000000</td>\n",
       "      <td>6.000000</td>\n",
       "      <td>9.000000</td>\n",
       "      <td>1500.000000</td>\n",
       "      <td>1000.000000</td>\n",
       "      <td>85554.000000</td>\n",
       "      <td>688.000000</td>\n",
       "      <td>197.000000</td>\n",
       "      <td>5.000000</td>\n",
       "      <td>5.000000</td>\n",
       "      <td>...</td>\n",
       "      <td>5.000000</td>\n",
       "      <td>5.000000</td>\n",
       "      <td>5.000000</td>\n",
       "      <td>5.000000</td>\n",
       "      <td>358.000000</td>\n",
       "      <td>358.000000</td>\n",
       "      <td>29.000000</td>\n",
       "      <td>2.000000</td>\n",
       "      <td>20.520000</td>\n",
       "      <td>0.0</td>\n",
       "    </tr>\n",
       "  </tbody>\n",
       "</table>\n",
       "<p>8 rows × 21 columns</p>\n",
       "</div>"
      ],
      "text/plain": [
       "       host_listings_count  accommodates          beds         price  \\\n",
       "count         28174.000000  28174.000000  28174.000000  28174.000000   \n",
       "mean             17.200575      3.067580      1.685029    142.816429   \n",
       "std              74.152677      1.252596      0.878502    116.835912   \n",
       "min               1.000000      2.000000      1.000000     10.000000   \n",
       "25%               1.000000      2.000000      1.000000     79.000000   \n",
       "50%               1.000000      2.000000      1.000000    110.000000   \n",
       "75%               2.000000      4.000000      2.000000    168.000000   \n",
       "max            1852.000000      6.000000      9.000000   1500.000000   \n",
       "\n",
       "       minimum_nights  maximum_nights  number_of_reviews  \\\n",
       "count    28174.000000    28174.000000       28174.000000   \n",
       "mean        78.477994      660.432384          27.673919   \n",
       "std        144.737168      707.147164          47.341196   \n",
       "min          1.000000        1.000000           1.000000   \n",
       "25%          2.000000       62.000000           4.000000   \n",
       "50%          3.000000     1125.000000          11.000000   \n",
       "75%         30.000000     1125.000000          30.000000   \n",
       "max       1000.000000    85554.000000         688.000000   \n",
       "\n",
       "       number_of_reviews_ltm  review_scores_rating  review_scores_accuracy  \\\n",
       "count           28174.000000          28174.000000            28174.000000   \n",
       "mean                8.331511              4.665093                4.756831   \n",
       "std                13.052243              0.449726                0.410277   \n",
       "min                 0.000000              0.000000                0.000000   \n",
       "25%                 0.000000              4.530000                4.680000   \n",
       "50%                 3.000000              4.790000                4.880000   \n",
       "75%                11.000000              5.000000                5.000000   \n",
       "max               197.000000              5.000000                5.000000   \n",
       "\n",
       "       ...  review_scores_checkin  review_scores_communication  \\\n",
       "count  ...           28174.000000                 28174.000000   \n",
       "mean   ...               4.782066                     4.800564   \n",
       "std    ...               0.412846                     0.403729   \n",
       "min    ...               0.000000                     0.000000   \n",
       "25%    ...               4.750000                     4.760000   \n",
       "50%    ...               4.920000                     4.940000   \n",
       "75%    ...               5.000000                     5.000000   \n",
       "max    ...               5.000000                     5.000000   \n",
       "\n",
       "       review_scores_location  review_scores_value  \\\n",
       "count            28174.000000         28174.000000   \n",
       "mean                 4.804288             4.599861   \n",
       "std                  0.339095             0.463386   \n",
       "min                  0.000000             0.000000   \n",
       "25%                  4.750000             4.500000   \n",
       "50%                  4.910000             4.710000   \n",
       "75%                  5.000000             4.880000   \n",
       "max                  5.000000             5.000000   \n",
       "\n",
       "       calculated_host_listings_count  \\\n",
       "count                    28174.000000   \n",
       "mean                        11.129943   \n",
       "std                         35.044186   \n",
       "min                          1.000000   \n",
       "25%                          1.000000   \n",
       "50%                          1.000000   \n",
       "75%                          1.000000   \n",
       "max                        358.000000   \n",
       "\n",
       "       calculated_host_listings_count_entire_homes  \\\n",
       "count                                 28174.000000   \n",
       "mean                                     11.055761   \n",
       "std                                      34.930077   \n",
       "min                                       1.000000   \n",
       "25%                                       1.000000   \n",
       "50%                                       1.000000   \n",
       "75%                                       1.000000   \n",
       "max                                     358.000000   \n",
       "\n",
       "       calculated_host_listings_count_private_rooms  \\\n",
       "count                                  28174.000000   \n",
       "mean                                       0.054163   \n",
       "std                                        0.559312   \n",
       "min                                        0.000000   \n",
       "25%                                        0.000000   \n",
       "50%                                        0.000000   \n",
       "75%                                        0.000000   \n",
       "max                                       29.000000   \n",
       "\n",
       "       calculated_host_listings_count_shared_rooms  reviews_per_month  \\\n",
       "count                                 28174.000000       28174.000000   \n",
       "mean                                      0.000568           1.031549   \n",
       "std                                       0.025270           1.267079   \n",
       "min                                       0.000000           0.010000   \n",
       "25%                                       0.000000           0.170000   \n",
       "50%                                       0.000000           0.560000   \n",
       "75%                                       0.000000           1.390000   \n",
       "max                                       2.000000          20.520000   \n",
       "\n",
       "       flag_review_scores_rating  \n",
       "count                    28174.0  \n",
       "mean                         0.0  \n",
       "std                          0.0  \n",
       "min                          0.0  \n",
       "25%                          0.0  \n",
       "50%                          0.0  \n",
       "75%                          0.0  \n",
       "max                          0.0  \n",
       "\n",
       "[8 rows x 21 columns]"
      ]
     },
     "execution_count": 38,
     "metadata": {},
     "output_type": "execute_result"
    }
   ],
   "source": [
    "train_data_December.describe()"
   ]
  },
  {
   "cell_type": "markdown",
   "id": "d13ed8e8",
   "metadata": {},
   "source": [
    "13. Created feols models to choose the best for final OLS and calculated RMSE and R-squared:"
   ]
  },
  {
   "cell_type": "code",
   "execution_count": 40,
   "id": "aedda672",
   "metadata": {},
   "outputs": [
    {
     "data": {
      "text/html": [
       "\n",
       "            <div id=\"QPeKdP\"></div>\n",
       "            <script type=\"text/javascript\" data-lets-plot-script=\"library\">\n",
       "                if(!window.letsPlotCallQueue) {\n",
       "                    window.letsPlotCallQueue = [];\n",
       "                }; \n",
       "                window.letsPlotCall = function(f) {\n",
       "                    window.letsPlotCallQueue.push(f);\n",
       "                };\n",
       "                (function() {\n",
       "                    var script = document.createElement(\"script\");\n",
       "                    script.type = \"text/javascript\";\n",
       "                    script.src = \"https://cdn.jsdelivr.net/gh/JetBrains/lets-plot@v4.1.0/js-package/distr/lets-plot.min.js\";\n",
       "                    script.onload = function() {\n",
       "                        window.letsPlotCall = function(f) {f();};\n",
       "                        window.letsPlotCallQueue.forEach(function(f) {f();});\n",
       "                        window.letsPlotCallQueue = [];\n",
       "                        \n",
       "                    };\n",
       "                    script.onerror = function(event) {\n",
       "                        window.letsPlotCall = function(f) {};    // noop\n",
       "                        window.letsPlotCallQueue = [];\n",
       "                        var div = document.createElement(\"div\");\n",
       "                        div.style.color = 'darkred';\n",
       "                        div.textContent = 'Error loading Lets-Plot JS';\n",
       "                        document.getElementById(\"QPeKdP\").appendChild(div);\n",
       "                    };\n",
       "                    var e = document.getElementById(\"QPeKdP\");\n",
       "                    e.appendChild(script);\n",
       "                })()\n",
       "            </script>\n",
       "            "
      ]
     },
     "metadata": {},
     "output_type": "display_data"
    }
   ],
   "source": [
    "from pyfixest.estimation import feols\n",
    "from pyfixest.utils import get_data"
   ]
  },
  {
   "cell_type": "code",
   "execution_count": 41,
   "id": "753652fd",
   "metadata": {},
   "outputs": [],
   "source": [
    "model_1 = feols(fml=\"price~host_listings_count+accommodates+beds\", data=train_data_December, vcov=\"HC1\")\n",
    "\n",
    "model_2 = feols(fml=\"price~host_listings_count+accommodates+beds+minimum_nights+maximum_nights+number_of_reviews+number_of_reviews_ltm+review_scores_rating+review_scores_accuracy+review_scores_cleanliness+review_scores_checkin+review_scores_communication+review_scores_location+review_scores_value\", data=train_data_December, vcov=\"HC1\")\n",
    "\n",
    "model_3 = feols(fml=\"price~host_listings_count+accommodates+beds+minimum_nights+maximum_nights+number_of_reviews+number_of_reviews_ltm+review_scores_rating+review_scores_accuracy+review_scores_cleanliness+review_scores_checkin+review_scores_communication+review_scores_location+review_scores_value+calculated_host_listings_count+calculated_host_listings_count_entire_homes+calculated_host_listings_count_private_rooms+calculated_host_listings_count_shared_rooms+reviews_per_month+host_is_superhost_t+ has_availability_t+instant_bookable_t\", data=train_data_December, vcov=\"HC1\")\n"
   ]
  },
  {
   "cell_type": "code",
   "execution_count": 42,
   "id": "2a49284e",
   "metadata": {
    "scrolled": true
   },
   "outputs": [
    {
     "name": "stdout",
     "output_type": "stream",
     "text": [
      "###\n",
      "\n",
      "Estimation:  OLS\n",
      "Dep. var.: price\n",
      "Inference:  HC1\n",
      "Observations:  28174\n",
      "\n",
      "| Coefficient         |   Estimate |   Std. Error |   t value |   Pr(>|t|) |   2.5 % |   97.5 % |\n",
      "|:--------------------|-----------:|-------------:|----------:|-----------:|--------:|---------:|\n",
      "| Intercept           |     26.201 |        1.798 |    14.576 |      0.000 |  22.678 |   29.725 |\n",
      "| host_listings_count |      0.179 |        0.022 |     8.208 |      0.000 |   0.136 |    0.222 |\n",
      "| accommodates        |     29.246 |        0.964 |    30.330 |      0.000 |  27.356 |   31.136 |\n",
      "| beds                |     14.137 |        1.407 |    10.047 |      0.000 |  11.379 |   16.895 |\n",
      "---\n",
      "RMSE: 105.913  Adj. R2: 0.178  Adj. R2 Within: 0.178\n",
      "None\n",
      "###\n",
      "\n",
      "Estimation:  OLS\n",
      "Dep. var.: price\n",
      "Inference:  HC1\n",
      "Observations:  28174\n",
      "\n",
      "| Coefficient                 |   Estimate |   Std. Error |   t value |   Pr(>|t|) |    2.5 % |   97.5 % |\n",
      "|:----------------------------|-----------:|-------------:|----------:|-----------:|---------:|---------:|\n",
      "| Intercept                   |   -117.405 |       10.865 |   -10.806 |      0.000 | -138.700 |  -96.109 |\n",
      "| host_listings_count         |      0.136 |        0.022 |     6.272 |      0.000 |    0.094 |    0.179 |\n",
      "| accommodates                |     29.394 |        0.926 |    31.755 |      0.000 |   27.580 |   31.208 |\n",
      "| beds                        |     11.705 |        1.345 |     8.700 |      0.000 |    9.068 |   14.343 |\n",
      "| minimum_nights              |     -0.140 |        0.004 |   -37.702 |      0.000 |   -0.147 |   -0.133 |\n",
      "| maximum_nights              |      0.000 |        0.001 |     0.197 |      0.843 |   -0.001 |    0.001 |\n",
      "| number_of_reviews           |     -0.138 |        0.013 |   -10.966 |      0.000 |   -0.163 |   -0.113 |\n",
      "| number_of_reviews_ltm       |      0.619 |        0.059 |    10.506 |      0.000 |    0.504 |    0.735 |\n",
      "| review_scores_rating        |     29.495 |        3.458 |     8.529 |      0.000 |   22.717 |   36.273 |\n",
      "| review_scores_accuracy      |    -10.758 |        2.748 |    -3.916 |      0.000 |  -16.143 |   -5.373 |\n",
      "| review_scores_cleanliness   |     27.422 |        2.290 |    11.975 |      0.000 |   22.933 |   31.911 |\n",
      "| review_scores_checkin       |     -5.207 |        3.177 |    -1.639 |      0.101 |  -11.434 |    1.021 |\n",
      "| review_scores_communication |    -12.737 |        3.969 |    -3.209 |      0.001 |  -20.516 |   -4.958 |\n",
      "| review_scores_location      |     40.232 |        2.228 |    18.053 |      0.000 |   35.864 |   44.599 |\n",
      "| review_scores_value         |    -35.158 |        2.948 |   -11.927 |      0.000 |  -40.936 |  -29.381 |\n",
      "---\n",
      "RMSE: 101.132  Adj. R2: 0.25  Adj. R2 Within: 0.25\n",
      "None\n",
      "###\n",
      "\n",
      "Estimation:  OLS\n",
      "Dep. var.: price\n",
      "Inference:  HC1\n",
      "Observations:  28174\n",
      "\n",
      "| Coefficient                                  |   Estimate |   Std. Error |   t value |   Pr(>|t|) |    2.5 % |   97.5 % |\n",
      "|:---------------------------------------------|-----------:|-------------:|----------:|-----------:|---------:|---------:|\n",
      "| Intercept                                    |    -99.420 |       19.732 |    -5.038 |      0.000 | -138.096 |  -60.744 |\n",
      "| host_listings_count                          |      0.011 |        0.026 |     0.421 |      0.673 |   -0.041 |    0.063 |\n",
      "| accommodates                                 |     29.062 |        0.915 |    31.778 |      0.000 |   27.270 |   30.855 |\n",
      "| beds                                         |     11.579 |        1.315 |     8.802 |      0.000 |    9.001 |   14.158 |\n",
      "| minimum_nights                               |     -0.131 |        0.004 |   -33.912 |      0.000 |   -0.139 |   -0.124 |\n",
      "| maximum_nights                               |     -0.001 |        0.001 |    -0.691 |      0.490 |   -0.002 |    0.001 |\n",
      "| number_of_reviews                            |     -0.149 |        0.012 |   -11.916 |      0.000 |   -0.173 |   -0.124 |\n",
      "| number_of_reviews_ltm                        |      0.420 |        0.069 |     6.105 |      0.000 |    0.285 |    0.555 |\n",
      "| review_scores_rating                         |     28.002 |        3.442 |     8.136 |      0.000 |   21.256 |   34.748 |\n",
      "| review_scores_accuracy                       |    -10.012 |        2.701 |    -3.706 |      0.000 |  -15.306 |   -4.717 |\n",
      "| review_scores_cleanliness                    |     24.499 |        2.272 |    10.783 |      0.000 |   20.046 |   28.952 |\n",
      "| review_scores_checkin                        |     -5.540 |        3.153 |    -1.757 |      0.079 |  -11.721 |    0.641 |\n",
      "| review_scores_communication                  |    -10.138 |        3.949 |    -2.567 |      0.010 |  -17.879 |   -2.397 |\n",
      "| review_scores_location                       |     38.207 |        2.199 |    17.377 |      0.000 |   33.897 |   42.516 |\n",
      "| review_scores_value                          |    -32.837 |        2.948 |   -11.140 |      0.000 |  -38.615 |  -27.060 |\n",
      "| calculated_host_listings_count               |     22.323 |        5.084 |     4.391 |      0.000 |   12.357 |   32.288 |\n",
      "| calculated_host_listings_count_entire_homes  |    -21.994 |        5.077 |    -4.332 |      0.000 |  -31.944 |  -12.043 |\n",
      "| calculated_host_listings_count_private_rooms |    -33.230 |        7.804 |    -4.258 |      0.000 |  -48.527 |  -17.933 |\n",
      "| calculated_host_listings_count_shared_rooms  |    -40.922 |       13.994 |    -2.924 |      0.003 |  -68.351 |  -13.493 |\n",
      "| reviews_per_month                            |     -0.846 |        0.601 |    -1.409 |      0.159 |   -2.023 |    0.331 |\n",
      "| host_is_superhost_t                          |     30.947 |        2.053 |    15.076 |      0.000 |   26.924 |   34.971 |\n",
      "| has_availability_t                           |    -18.208 |       16.911 |    -1.077 |      0.282 |  -51.354 |   14.938 |\n",
      "| instant_bookable_t                           |     13.476 |        1.660 |     8.119 |      0.000 |   10.223 |   16.729 |\n",
      "---\n",
      "RMSE: 100.157  Adj. R2: 0.264  Adj. R2 Within: 0.264\n",
      "None\n"
     ]
    }
   ],
   "source": [
    "print(model_1.summary())\n",
    "print(model_2.summary())\n",
    "print(model_3.summary())\n"
   ]
  },
  {
   "cell_type": "markdown",
   "id": "1dad35bf",
   "metadata": {},
   "source": [
    "14. Create OLS Model, Randon Forest and Gradient Boosting"
   ]
  },
  {
   "cell_type": "code",
   "execution_count": 43,
   "id": "ccfbf27f",
   "metadata": {},
   "outputs": [
    {
     "name": "stdout",
     "output_type": "stream",
     "text": [
      "MSE for OLS: 9355.873376226149\n"
     ]
    }
   ],
   "source": [
    "X_train_December = train_data_December.drop('price', axis=1)\n",
    "y_train_December = train_data_December['price']\n",
    "\n",
    "X_test_December = test_data_December.drop('price', axis=1)\n",
    "y_test_December = test_data_December['price']\n",
    "\n",
    "# Create and train the OLS regression model\n",
    "model_ols_December = LinearRegression()\n",
    "model_ols_December.fit(X_train_December, y_train_December)\n",
    "\n",
    "# Predict on the test set\n",
    "y_pred_ols_December = model_ols_December.predict(X_test_December)\n",
    "\n",
    "# Calculate and print the Mean Squared Error\n",
    "mse_ols_December = mean_squared_error(y_test_December, y_pred_ols_December)\n",
    "print(f'MSE for OLS: {mse_ols_December}')"
   ]
  },
  {
   "cell_type": "code",
   "execution_count": 44,
   "id": "fca6fcc5",
   "metadata": {},
   "outputs": [
    {
     "name": "stdout",
     "output_type": "stream",
     "text": [
      "MSE for Random Forest: 7318.78282965798\n"
     ]
    }
   ],
   "source": [
    "from sklearn.ensemble import RandomForestRegressor\n",
    "\n",
    "# Create and train the Random Forest regression model\n",
    "model_rf_December = RandomForestRegressor(n_estimators=100, random_state=42)\n",
    "model_rf_December.fit(X_train_December, y_train_December)\n",
    "\n",
    "# Predict on the test set\n",
    "y_pred_rf_December = model_rf_December.predict(X_test_December)\n",
    "\n",
    "# Calculate and print the Mean Squared Error\n",
    "mse_rf_December = mean_squared_error(y_test_December, y_pred_rf_December)\n",
    "print(f'MSE for Random Forest: {mse_rf_December}')"
   ]
  },
  {
   "cell_type": "code",
   "execution_count": 45,
   "id": "19101c42",
   "metadata": {},
   "outputs": [
    {
     "name": "stdout",
     "output_type": "stream",
     "text": [
      "MSE for Gradient Boosting: 7126.205910638168\n"
     ]
    }
   ],
   "source": [
    "from sklearn.ensemble import GradientBoostingRegressor\n",
    "\n",
    "model_gb_December = GradientBoostingRegressor(n_estimators=100, random_state=42)\n",
    "model_gb_December.fit(X_train_December, y_train_December)\n",
    "\n",
    "# Predict on the test set\n",
    "y_pred_gb_December = model_gb_December.predict(X_test_December)\n",
    "\n",
    "# Calculate and print the Mean Squared Error\n",
    "mse_gb_December = mean_squared_error(y_test_December, y_pred_gb_December)\n",
    "print(f'MSE for Gradient Boosting: {mse_gb_December}')"
   ]
  },
  {
   "cell_type": "code",
   "execution_count": 47,
   "id": "2d162328",
   "metadata": {},
   "outputs": [
    {
     "name": "stdout",
     "output_type": "stream",
     "text": [
      "                        RMSE  R-squared\n",
      "Linear Regression  96.725764   0.336366\n",
      "Random Forest      85.549885   0.480862\n",
      "Gradient Boosting  84.416858   0.494521\n"
     ]
    }
   ],
   "source": [
    "results_df_December = pd.DataFrame(index=['Linear Regression', 'Random Forest', 'Gradient Boosting'])\n",
    "\n",
    "# Calculate metrics for each model\n",
    "for model, y_pred_December, name in zip([model_ols_December, model_rf_December, model_gb_December],\n",
    "                               [y_pred_ols_December, y_pred_rf_December, y_pred_gb_December],\n",
    "                               results_df_December.index):\n",
    "# Calculate RMSE\n",
    "    rmse = np.sqrt(mean_squared_error(y_test_December, y_pred_December))\n",
    "\n",
    "# Calculate R-squared\n",
    "    r_squared = r2_score(y_test_December, y_pred_December)\n",
    "    \n",
    "# Update the results DataFrame\n",
    "    results_df_December.loc[name, 'RMSE'] = rmse\n",
    "    results_df_December.loc[name, 'R-squared'] = r_squared\n",
    "    \n",
    "# Print the results DataFrame\n",
    "print(results_df_December)"
   ]
  },
  {
   "cell_type": "markdown",
   "id": "f4ee83d5",
   "metadata": {},
   "source": [
    "15. calculated BIC manually:"
   ]
  },
  {
   "cell_type": "code",
   "execution_count": 49,
   "id": "70e8aad4",
   "metadata": {},
   "outputs": [],
   "source": [
    "n = len(y_test_December)\n",
    "sse = np.sum((y_test_December - y_pred_December) ** 2)\n",
    "\n",
    "# Assuming X_test is your feature matrix for the linear model\n",
    "k = X_test_December.shape[1] \n",
    "\n",
    "# Calculate BIC\n",
    "bic_manual = n * np.log(sse / n) + k * np.log(n)\n",
    "\n",
    "# Update the results DataFrame\n",
    "results_df_December.loc['Linear Regression', 'BIC'] = bic_manual\n"
   ]
  },
  {
   "cell_type": "code",
   "execution_count": 51,
   "id": "bb3a1c59",
   "metadata": {},
   "outputs": [],
   "source": [
    "# Calculate BIC for Random Forest\n",
    "y_pred_rf_December = model_rf_December.predict(X_test_December)\n",
    "sse_rf = np.sum((y_test_December - y_pred_rf_December) ** 2)\n",
    "k_rf = X_test_December.shape[1]\n",
    "bic_rf = n * np.log(sse_rf / n) + k_rf * np.log(n)\n",
    "results_df_December.loc['Random Forest', 'BIC'] = bic_rf\n",
    "\n",
    "# Calculate BIC for Gradient Boosting\n",
    "y_pred_gb_December = model_gb_December.predict(X_test_December)\n",
    "sse_gb = np.sum((y_test_December - y_pred_gb_December) ** 2)\n",
    "k_gb = X_test_December.shape[1] \n",
    "bic_gb = n * np.log(sse_gb / n) + k_gb * np.log(n)\n",
    "results_df_December.loc['Gradient Boosting', 'BIC'] = bic_gb"
   ]
  },
  {
   "cell_type": "code",
   "execution_count": 53,
   "id": "d60124b4",
   "metadata": {},
   "outputs": [
    {
     "name": "stdout",
     "output_type": "stream",
     "text": [
      "                        RMSE  R-squared           BIC\n",
      "Linear Regression  96.725764   0.336366  62889.784113\n",
      "Random Forest      85.549885   0.480862  63077.612877\n",
      "Gradient Boosting  84.416858   0.494521  62889.784113\n"
     ]
    }
   ],
   "source": [
    "print(results_df_December)"
   ]
  },
  {
   "cell_type": "markdown",
   "id": "759d1f20",
   "metadata": {},
   "source": [
    "16. Graph"
   ]
  },
  {
   "cell_type": "code",
   "execution_count": 55,
   "id": "119f052e",
   "metadata": {},
   "outputs": [
    {
     "data": {
      "image/png": "[encoded data removed]",
      "text/plain": [
       "<Figure size 640x480 with 1 Axes>"
      ]
     },
     "metadata": {},
     "output_type": "display_data"
    }
   ],
   "source": [
    "from plotnine import ggplot, aes, geom_line, scale_color_manual, scale_y_continuous, scale_x_discrete, theme_bw\n",
    "\n",
    "plt.scatter(y_test_December, y_pred_ols_December, label='OLS', alpha=0.5)\n",
    "\n",
    "# Scatter plot for Random Forest\n",
    "plt.scatter(y_test_December, y_pred_rf_December, label='Random Forest', alpha=0.5)\n",
    "\n",
    "# Scatter plot for Gradient Boosting\n",
    "plt.scatter(y_test_December, y_pred_gb_December, label='Gradient Boosting', alpha=0.5)\n",
    "\n",
    "# Plotting the diagonal line for reference\n",
    "plt.plot([min(y_test_December), max(y_test_December)], [min(y_test_December), max(y_test_December)], '--', color='gray')\n",
    "\n",
    "# Adding labels and legend\n",
    "plt.xlabel('True Values')\n",
    "plt.ylabel('Predicted Values')\n",
    "plt.legend()\n",
    "plt.title('Model Comparison: True vs. Predicted Values')\n",
    "plt.show()"
   ]
  },
  {
   "cell_type": "markdown",
   "id": "b46a9349",
   "metadata": {},
   "source": [
    "17. Scraping for September"
   ]
  },
  {
   "cell_type": "code",
   "execution_count": 56,
   "id": "18488fe0",
   "metadata": {},
   "outputs": [
    {
     "name": "stdout",
     "output_type": "stream",
     "text": [
      "      id                         listing_url       scrape_id last_scraped  \\\n",
      "0  52931  https://www.airbnb.com/rooms/52931  20230904181324   2023-09-06   \n",
      "1  53353  https://www.airbnb.com/rooms/53353  20230904181324   2023-09-05   \n",
      "2   3109   https://www.airbnb.com/rooms/3109  20230904181324   2023-09-05   \n",
      "3  54377  https://www.airbnb.com/rooms/54377  20230904181324   2023-09-05   \n",
      "4   5396   https://www.airbnb.com/rooms/5396  20230904181324   2023-09-05   \n",
      "\n",
      "            source                                               name  \\\n",
      "0  previous scrape  Rental unit in Paris · ★4.65 · 2 bedrooms · 2 ...   \n",
      "1      city scrape  Rental unit in Paris · ★4.82 · 2 bedrooms · 3 ...   \n",
      "2      city scrape  Rental unit in Paris · ★5.0 · 1 bedroom · 1 be...   \n",
      "3      city scrape  Rental unit in Paris · ★4.94 · 1 bedroom · 1 b...   \n",
      "4      city scrape  Rental unit in Paris · ★4.56 · Studio · 1 bed ...   \n",
      "\n",
      "                                         description  \\\n",
      "0  I will be delighted to welcome you to my charm...   \n",
      "1  A 100 m2 Loft/apartment (with 20 m2 terrace) o...   \n",
      "2  Lovely Appartment with one bedroom with a Quee...   \n",
      "3  We love Paris. Giving tourists the opportunity...   \n",
      "4  NEW SOFA-BED SINCE JUNE 2023, Please disregard...   \n",
      "\n",
      "                               neighborhood_overview  \\\n",
      "0  In some streets, Les Épinettes has also become...   \n",
      "1  NEIGHBORHOOD: Montmartre-Clichy-Pigalles-Les F...   \n",
      "2  Good restaurants<br />very close the Montparna...   \n",
      "3  The district is cosmopolitan and particularly ...   \n",
      "4  You are within walking distance to the Louvre,...   \n",
      "\n",
      "                                         picture_url   host_id  ...  \\\n",
      "0  https://a0.muscache.com/pictures/miso/Hosting-...  50502817  ...   \n",
      "1  https://a0.muscache.com/pictures/2a1726b5-5a09...  37051412  ...   \n",
      "2  https://a0.muscache.com/pictures/baeae9e2-cd53...      3631  ...   \n",
      "3  https://a0.muscache.com/pictures/miso/Hosting-...    247562  ...   \n",
      "4  https://a0.muscache.com/pictures/52413/f9bf76f...      7903  ...   \n",
      "\n",
      "  review_scores_communication review_scores_location review_scores_value  \\\n",
      "0                        4.71                   4.24                4.24   \n",
      "1                        4.91                   4.48                4.73   \n",
      "2                        5.00                   5.00                5.00   \n",
      "3                        5.00                   4.57                4.88   \n",
      "4                        4.83                   4.95                4.55   \n",
      "\n",
      "         license instant_bookable calculated_host_listings_count  \\\n",
      "0  7511706944917                t                            382   \n",
      "1  7511800114704                f                              1   \n",
      "2  7511409139079                f                              1   \n",
      "3  7511800523290                f                              1   \n",
      "4  7510402838018                f                              1   \n",
      "\n",
      "  calculated_host_listings_count_entire_homes  \\\n",
      "0                                         378   \n",
      "1                                           1   \n",
      "2                                           1   \n",
      "3                                           0   \n",
      "4                                           1   \n",
      "\n",
      "  calculated_host_listings_count_private_rooms  \\\n",
      "0                                            4   \n",
      "1                                            0   \n",
      "2                                            0   \n",
      "3                                            1   \n",
      "4                                            0   \n",
      "\n",
      "  calculated_host_listings_count_shared_rooms reviews_per_month  \n",
      "0                                           0              1.65  \n",
      "1                                           0              0.24  \n",
      "2                                           0              0.11  \n",
      "3                                           0              1.19  \n",
      "4                                           0              2.05  \n",
      "\n",
      "[5 rows x 75 columns]\n"
     ]
    }
   ],
   "source": [
    "url = \"http://data.insideairbnb.com/france/ile-de-france/paris/2023-09-04/data/listings.csv.gz\"\n",
    "response = requests.get(url)\n",
    "if response.status_code == 200:\n",
    "    compressed_data = BytesIO(response.content)\n",
    "    with gzip.GzipFile(fileobj=compressed_data, mode='rb') as f:\n",
    "        df_September_2023 = pd.read_csv(f)\n",
    "    print(df_September_2023.head())\n",
    "else:\n",
    "    print(f\"Error: {response.status_code}\")"
   ]
  },
  {
   "cell_type": "markdown",
   "id": "9accec44",
   "metadata": {},
   "source": [
    "18. Data cleaning for September"
   ]
  },
  {
   "cell_type": "code",
   "execution_count": 57,
   "id": "6be5d967",
   "metadata": {},
   "outputs": [],
   "source": [
    "df_September_2023.dropna(subset=['price'], inplace=True)"
   ]
  },
  {
   "cell_type": "code",
   "execution_count": 58,
   "id": "fdce2326",
   "metadata": {},
   "outputs": [
    {
     "name": "stdout",
     "output_type": "stream",
     "text": [
      "Index(['host_is_superhost', 'host_listings_count', 'neighbourhood_cleansed',\n",
      "       'property_type', 'room_type', 'accommodates', 'beds', 'price',\n",
      "       'minimum_nights', 'maximum_nights', 'has_availability',\n",
      "       'number_of_reviews', 'number_of_reviews_ltm', 'review_scores_rating',\n",
      "       'review_scores_accuracy', 'review_scores_cleanliness',\n",
      "       'review_scores_checkin', 'review_scores_communication',\n",
      "       'review_scores_location', 'review_scores_value', 'instant_bookable',\n",
      "       'calculated_host_listings_count',\n",
      "       'calculated_host_listings_count_entire_homes',\n",
      "       'calculated_host_listings_count_private_rooms',\n",
      "       'calculated_host_listings_count_shared_rooms', 'reviews_per_month'],\n",
      "      dtype='object')\n"
     ]
    }
   ],
   "source": [
    "df_September_2023 = df_September_2023.drop(['id', 'listing_url', 'scrape_id', 'last_scraped', 'source', 'name',\n",
    "       'description', 'neighborhood_overview', 'picture_url', 'host_id', 'bedrooms',\n",
    "       'host_url', 'host_name', 'host_since', 'host_location', 'host_about',\n",
    "       'host_response_time', 'host_response_rate', 'host_acceptance_rate',\n",
    "       'host_thumbnail_url', 'host_picture_url','host_neighbourhood',\n",
    "       'host_total_listings_count', 'host_verifications','host_has_profile_pic', \n",
    "       'host_identity_verified', 'neighbourhood', 'neighbourhood_group_cleansed',\n",
    "       'latitude', 'longitude','bathrooms', 'bathrooms_text', 'amenities', \n",
    "       'minimum_minimum_nights','maximum_minimum_nights', 'minimum_maximum_nights',\n",
    "       'maximum_maximum_nights', 'minimum_nights_avg_ntm','maximum_nights_avg_ntm',\n",
    "       'calendar_updated', 'availability_30', 'availability_60', 'availability_90',\n",
    "       'availability_365', 'first_review', 'last_review', \n",
    "       'calendar_last_scraped', 'number_of_reviews_l30d', 'license' ], axis=1)\n",
    "print(df_September_2023.columns)"
   ]
  },
  {
   "cell_type": "code",
   "execution_count": 59,
   "id": "583fc848",
   "metadata": {},
   "outputs": [],
   "source": [
    "df_September_2023 = df_September_2023[df_September_2023['room_type'] == 'Entire home/apt']\n",
    "df_September_2023 = df_September_2023.drop(['room_type'], axis=1)"
   ]
  },
  {
   "cell_type": "code",
   "execution_count": 60,
   "id": "35969a1a",
   "metadata": {},
   "outputs": [],
   "source": [
    "df_September_2023 = df_September_2023[(df_September_2023['accommodates'] >= 2) & (df_September_2023['accommodates'] <= 6)]"
   ]
  },
  {
   "cell_type": "code",
   "execution_count": 61,
   "id": "fab7dff0",
   "metadata": {},
   "outputs": [],
   "source": [
    "df_September_2023 = df_September_2023[\n",
    "    (df_September_2023['property_type'] == 'Entire rental unit') |\n",
    "    (df_September_2023['property_type'] == 'Entire condo') |\n",
    "    (df_September_2023['property_type'] == 'Entire loft') |\n",
    "    (df_September_2023['property_type'] == 'Entire serviced apartment')]"
   ]
  },
  {
   "cell_type": "code",
   "execution_count": 62,
   "id": "575c245d",
   "metadata": {},
   "outputs": [],
   "source": [
    "for var in [\"flag_review_scores_rating\"]:\n",
    "    df_September_2023[var] = [int(x) for x in df_September_2023[var.replace(\"flag_review\", \"review\")].isna()]"
   ]
  },
  {
   "cell_type": "code",
   "execution_count": 63,
   "id": "842ba0d4",
   "metadata": {},
   "outputs": [
    {
     "name": "stdout",
     "output_type": "stream",
     "text": [
      "0    209.0\n",
      "1    297.0\n",
      "2    110.0\n",
      "4    140.0\n",
      "5    140.0\n",
      "Name: price, dtype: float64\n",
      "count    55036.000000\n",
      "mean       190.724362\n",
      "std        357.970316\n",
      "min          9.000000\n",
      "25%         87.000000\n",
      "50%        129.000000\n",
      "75%        200.000000\n",
      "max      30000.000000\n",
      "Name: price, dtype: float64\n"
     ]
    }
   ],
   "source": [
    "df_September_2023['price'] = df_September_2023['price'].replace('[\\$,]', '', regex=True).astype(float)\n",
    "print(df_September_2023['price'].head())\n",
    "print(df_September_2023['price'].describe())"
   ]
  },
  {
   "cell_type": "code",
   "execution_count": 64,
   "id": "67beb521",
   "metadata": {},
   "outputs": [],
   "source": [
    "df_September_2023[\"beds\"] = df_September_2023[\"beds\"].fillna(df_September_2023[\"accommodates\"])"
   ]
  },
  {
   "cell_type": "code",
   "execution_count": 66,
   "id": "9e1ec338",
   "metadata": {},
   "outputs": [],
   "source": [
    "df_September_2023 = df_September_2023[(df_September_2023['price'] <= 1500)]"
   ]
  },
  {
   "cell_type": "code",
   "execution_count": 67,
   "id": "42f31fe2",
   "metadata": {
    "scrolled": false
   },
   "outputs": [
    {
     "data": {
      "image/png": "[encoded data removed]",
      "text/plain": [
       "<Figure size 640x480 with 1 Axes>"
      ]
     },
     "metadata": {},
     "output_type": "display_data"
    }
   ],
   "source": [
    "plt.hist(df_September_2023['price'], bins=100, edgecolor='black')\n",
    "plt.title('Histogram of Prices')\n",
    "plt.xlabel('Price')\n",
    "plt.ylabel('Frequency')\n",
    "\n",
    "plt.show()"
   ]
  },
  {
   "cell_type": "code",
   "execution_count": 69,
   "id": "06fcae0b",
   "metadata": {},
   "outputs": [],
   "source": [
    "categorical_columns = df_September_2023.select_dtypes(include='object').columns\n",
    "df_September_2023 = pd.get_dummies(df_September_2023, columns=categorical_columns, drop_first=True)"
   ]
  },
  {
   "cell_type": "code",
   "execution_count": 71,
   "id": "418746d9",
   "metadata": {},
   "outputs": [],
   "source": [
    "df_September_2023_numeric = df_September_2023.apply(pd.to_numeric, errors='coerce')\n",
    "df_September_2023_numeric = df_September_2023_numeric.dropna()"
   ]
  },
  {
   "cell_type": "code",
   "execution_count": 72,
   "id": "336dae09",
   "metadata": {},
   "outputs": [
    {
     "name": "stdout",
     "output_type": "stream",
     "text": [
      "42870\n"
     ]
    }
   ],
   "source": [
    "df_September_2023 = df_September_2023.dropna()\n",
    "print(len(df_September_2023))"
   ]
  },
  {
   "cell_type": "markdown",
   "id": "560d29f7",
   "metadata": {},
   "source": [
    "19. Models"
   ]
  },
  {
   "cell_type": "code",
   "execution_count": 73,
   "id": "72d29208",
   "metadata": {},
   "outputs": [],
   "source": [
    "np.random.seed(20180123)"
   ]
  },
  {
   "cell_type": "code",
   "execution_count": 77,
   "id": "58ced96c",
   "metadata": {},
   "outputs": [],
   "source": [
    "y_september_pred_ols = model_ols_December.predict(X_september)"
   ]
  },
  {
   "cell_type": "code",
   "execution_count": 79,
   "id": "04ea5a56",
   "metadata": {},
   "outputs": [],
   "source": [
    "rmse_september_ols = np.sqrt(mean_squared_error(y_september_true, y_september_pred))\n",
    "r_squared_september_ols = r2_score(y_september_true, y_september_pred)"
   ]
  },
  {
   "cell_type": "code",
   "execution_count": 81,
   "id": "e86c9e04",
   "metadata": {},
   "outputs": [
    {
     "name": "stdout",
     "output_type": "stream",
     "text": [
      "Model Performance on September 2023:\n",
      "RMSE: 118.23458168780486\n",
      "R-squared: 0.27938972574037413\n"
     ]
    }
   ],
   "source": [
    "print(f'Model Performance on September 2023:')\n",
    "print(f'RMSE: {rmse_september_ols}')\n",
    "print(f'R-squared: {r_squared_september_ols}')"
   ]
  },
  {
   "cell_type": "code",
   "execution_count": 82,
   "id": "87f7f3ce",
   "metadata": {},
   "outputs": [
    {
     "name": "stdout",
     "output_type": "stream",
     "text": [
      "34296\n"
     ]
    }
   ],
   "source": [
    "train_data_Sept, test_data_Sept = train_test_split(df_September_2023, test_size=0.2, random_state=20)\n",
    "print(len(train_data_Sept)) #for checking"
   ]
  },
  {
   "cell_type": "code",
   "execution_count": 83,
   "id": "c3f2652a",
   "metadata": {},
   "outputs": [
    {
     "name": "stdout",
     "output_type": "stream",
     "text": [
      "MSE for OLS: 12072.977395670496\n"
     ]
    }
   ],
   "source": [
    "X_train_Sept = train_data_Sept.drop('price', axis=1)\n",
    "y_train_Sept = train_data_Sept['price']\n",
    "\n",
    "X_test_Sept = test_data_Sept.drop('price', axis=1)\n",
    "y_test_Sept = test_data_Sept['price']\n",
    "\n",
    "# Create and train the OLS regression model\n",
    "model_ols_Sept = LinearRegression()\n",
    "model_ols_Sept.fit(X_train_Sept, y_train_Sept)\n",
    "\n",
    "# Predict on the test set\n",
    "y_pred_ols_Sept = model_ols_Sept.predict(X_test_Sept)\n",
    "\n",
    "# Calculate and print the Mean Squared Error\n",
    "mse_ols_Sept = mean_squared_error(y_test_Sept, y_pred_ols_Sept)\n",
    "print(f'MSE for OLS: {mse_ols_Sept}')"
   ]
  },
  {
   "cell_type": "code",
   "execution_count": 86,
   "id": "1a8bcd3f",
   "metadata": {},
   "outputs": [
    {
     "name": "stdout",
     "output_type": "stream",
     "text": [
      "MSE for Random Forest: 10692.343938338521\n"
     ]
    }
   ],
   "source": [
    "# Create and train the Random Forest regression model\n",
    "model_rf_Sept = RandomForestRegressor(n_estimators=100, random_state=42)\n",
    "model_rf_Sept.fit(X_train_Sept, y_train_Sept)\n",
    "\n",
    "# Predict on the test set\n",
    "y_pred_rf_Sept = model_rf_Sept.predict(X_test_Sept)\n",
    "\n",
    "# Calculate and print the Mean Squared Error\n",
    "mse_rf_Sept = mean_squared_error(y_test_Sept, y_pred_rf_Sept)\n",
    "print(f'MSE for Random Forest: {mse_rf_Sept}')"
   ]
  },
  {
   "cell_type": "code",
   "execution_count": 87,
   "id": "315ed850",
   "metadata": {},
   "outputs": [
    {
     "name": "stdout",
     "output_type": "stream",
     "text": [
      "MSE for Gradient Boosting: 10243.763566117914\n"
     ]
    }
   ],
   "source": [
    "model_gb_Sept = GradientBoostingRegressor(n_estimators=100, random_state=42)\n",
    "model_gb_Sept.fit(X_train_Sept, y_train_Sept)\n",
    "\n",
    "# Predict on the test set\n",
    "y_pred_gb_Sept = model_gb_Sept.predict(X_test_Sept)\n",
    "\n",
    "# Calculate and print the Mean Squared Error\n",
    "mse_gb_Sept = mean_squared_error(y_test_Sept, y_pred_gb_Sept)\n",
    "print(f'MSE for Gradient Boosting: {mse_gb_Sept}')"
   ]
  },
  {
   "cell_type": "code",
   "execution_count": 88,
   "id": "8e30d9ff",
   "metadata": {},
   "outputs": [
    {
     "name": "stdout",
     "output_type": "stream",
     "text": [
      "                         RMSE  R-squared\n",
      "Linear Regression  109.877101   0.375464\n",
      "Random Forest      103.403791   0.446884\n",
      "Gradient Boosting  101.211479   0.470089\n"
     ]
    }
   ],
   "source": [
    "results_df_Sept = pd.DataFrame(index=['Linear Regression', 'Random Forest', 'Gradient Boosting'])\n",
    "\n",
    "# Calculate metrics for each model\n",
    "for model, y_pred_Sept, name in zip([model_ols_Sept, model_rf_Sept, model_gb_Sept],\n",
    "                               [y_pred_ols_Sept, y_pred_rf_Sept, y_pred_gb_Sept],\n",
    "                               results_df_Sept.index):\n",
    "\n",
    "    # Calculate RMSE\n",
    "    rmse = np.sqrt(mean_squared_error(y_test_Sept, y_pred_Sept))\n",
    "\n",
    "    # Calculate R-squared\n",
    "    r_squared = r2_score(y_test_Sept, y_pred_Sept)\n",
    "    \n",
    "    # Update the results DataFrame\n",
    "    results_df_Sept.loc[name, 'RMSE'] = rmse\n",
    "    results_df_Sept.loc[name, 'R-squared'] = r_squared\n",
    "    \n",
    "# Print the results DataFrame\n",
    "print(results_df_Sept)"
   ]
  },
  {
   "cell_type": "code",
   "execution_count": 89,
   "id": "839173b8",
   "metadata": {},
   "outputs": [
    {
     "name": "stdout",
     "output_type": "stream",
     "text": [
      "                         RMSE  R-squared           BIC\n",
      "Linear Regression  109.877101   0.375464  79583.496555\n",
      "Random Forest      103.403791   0.446884  79950.968573\n",
      "Gradient Boosting  101.211479   0.470089  79583.496555\n"
     ]
    }
   ],
   "source": [
    "n = len(y_test_Sept)\n",
    "sse = np.sum((y_test_Sept - y_pred_Sept) ** 2)\n",
    "\n",
    "# Assuming X_test is your feature matrix for the linear model\n",
    "k = X_test_Sept.shape[1]  \n",
    "# Calculate BIC\n",
    "bic_manual = n * np.log(sse / n) + k * np.log(n)\n",
    "\n",
    "# Update the results DataFrame\n",
    "results_df_Sept.loc['Linear Regression', 'BIC'] = bic_manual\n",
    "\n",
    "# Calculate BIC for Random Forest\n",
    "y_pred_rf_Sept = model_rf_Sept.predict(X_test_Sept)\n",
    "sse_rf = np.sum((y_test_Sept - y_pred_rf_Sept) ** 2)\n",
    "k_rf = X_test_Sept.shape[1]\n",
    "bic_rf = n * np.log(sse_rf / n) + k_rf * np.log(n)\n",
    "results_df_Sept.loc['Random Forest', 'BIC'] = bic_rf\n",
    "\n",
    "# Calculate BIC for Gradient Boosting\n",
    "y_pred_gb_Sept = model_gb_Sept.predict(X_test_Sept)\n",
    "sse_gb = np.sum((y_test_Sept - y_pred_gb_Sept) ** 2)\n",
    "k_gb = X_test_Sept.shape[1] \n",
    "bic_gb = n * np.log(sse_gb / n) + k_gb * np.log(n)\n",
    "results_df_Sept.loc['Gradient Boosting', 'BIC'] = bic_gb\n",
    "\n",
    "print(results_df_Sept)"
   ]
  },
  {
   "cell_type": "markdown",
   "id": "2d47ab9d",
   "metadata": {},
   "source": [
    "20. SHAP"
   ]
  },
  {
   "cell_type": "code",
   "execution_count": 94,
   "id": "f69d6461",
   "metadata": {},
   "outputs": [],
   "source": [
    "\n",
    "# Create an explainer object\n",
    "explainer = shap.Explainer(model)\n",
    "\n",
    "# Calculate SHAP values for a set of samples\n",
    "shap_values = explainer.shap_values(X_test_Sept)\n"
   ]
  },
  {
   "cell_type": "code",
   "execution_count": 97,
   "id": "e64107d0",
   "metadata": {},
   "outputs": [
    {
     "data": {
      "image/png": "[encoded data removed]",
      "text/plain": [
       "<Figure size 800x950 with 2 Axes>"
      ]
     },
     "metadata": {},
     "output_type": "display_data"
    },
    {
     "data": {
      "image/png": "[encoded data removed]",
      "text/plain": [
       "<Figure size 750x500 with 2 Axes>"
      ]
     },
     "metadata": {},
     "output_type": "display_data"
    }
   ],
   "source": [
    "shap.summary_plot(shap_values, X_test_Sept, feature_names=X_test_Sept.columns)\n",
    "shap.force_plot(explainer.expected_value, shap_values[0, :], X_test_Sept.iloc[0, :])\n",
    "shap.dependence_plot(\"accommodates\", shap_values, X_test_Sept)\n"
   ]
  }
 ],
 "metadata": {
  "kernelspec": {
   "display_name": "Python 3 (ipykernel)",
   "language": "python",
   "name": "python3"
  },
  "language_info": {
   "codemirror_mode": {
    "name": "ipython",
    "version": 3
   },
   "file_extension": ".py",
   "mimetype": "text/x-python",
   "name": "python",
   "nbconvert_exporter": "python",
   "pygments_lexer": "ipython3",
   "version": "3.11.5"
  }
 },
 "nbformat": 4,
 "nbformat_minor": 5
}
