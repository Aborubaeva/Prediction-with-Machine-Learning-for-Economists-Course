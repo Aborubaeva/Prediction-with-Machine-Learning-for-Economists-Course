{
 "cells": [
  {
   "cell_type": "markdown",
   "id": "94a09b20",
   "metadata": {},
   "source": [
    "#\n",
    "Aizhan Borubaeva\n",
    "\n",
    "Prediction with Machine Learning for Economists \n",
    "\n",
    "2023/24 Fall\n",
    "\n",
    "Assignment 1\n",
    "\n",
    "\n",
    "Below you can find the code for Assignment 1. "
   ]
  },
  {
   "cell_type": "markdown",
   "id": "1b3055e3",
   "metadata": {},
   "source": [
    "1) Importing packages: "
   ]
  },
  {
   "cell_type": "code",
   "execution_count": 1,
   "id": "0008b324",
   "metadata": {},
   "outputs": [
    {
     "name": "stdout",
     "output_type": "stream",
     "text": [
      "Requirement already satisfied: pyfixest in d:\\program files\\lib\\site-packages (0.10.10.0)\n",
      "Requirement already satisfied: PyHDFE>=0.2 in d:\\program files\\lib\\site-packages (from pyfixest) (0.2.0)\n",
      "Requirement already satisfied: formulaic>=0.6.6 in d:\\program files\\lib\\site-packages (from pyfixest) (0.6.6)\n",
      "Requirement already satisfied: lets-plot<5.0.0,>=4.0.1 in d:\\program files\\lib\\site-packages (from pyfixest) (4.1.0)\n",
      "Requirement already satisfied: numba<0.59.0,>=0.58.0 in d:\\program files\\lib\\site-packages (from pyfixest) (0.58.1)\n",
      "Requirement already satisfied: numpy>=1.19.0 in d:\\program files\\lib\\site-packages (from pyfixest) (1.24.3)\n",
      "Requirement already satisfied: pandas>=1.1.0 in d:\\program files\\lib\\site-packages (from pyfixest) (2.0.3)\n",
      "Requirement already satisfied: pytest<8.0.0,>=7.0.0 in d:\\program files\\lib\\site-packages (from pyfixest) (7.4.0)\n",
      "Requirement already satisfied: scipy>=1.6 in d:\\program files\\lib\\site-packages (from pyfixest) (1.11.1)\n",
      "Requirement already satisfied: tabulate<0.10.0,>=0.9.0 in d:\\program files\\lib\\site-packages (from pyfixest) (0.9.0)\n",
      "Requirement already satisfied: wildboottest>=0.2 in d:\\program files\\lib\\site-packages (from pyfixest) (0.3.0)\n",
      "Requirement already satisfied: astor>=0.8 in d:\\program files\\lib\\site-packages (from formulaic>=0.6.6->pyfixest) (0.8.1)\n",
      "Requirement already satisfied: interface-meta>=1.2.0 in d:\\program files\\lib\\site-packages (from formulaic>=0.6.6->pyfixest) (1.3.0)\n",
      "Requirement already satisfied: typing-extensions>=4.2.0 in d:\\program files\\lib\\site-packages (from formulaic>=0.6.6->pyfixest) (4.7.1)\n",
      "Requirement already satisfied: wrapt>=1.0 in d:\\program files\\lib\\site-packages (from formulaic>=0.6.6->pyfixest) (1.14.1)\n",
      "Requirement already satisfied: pypng in d:\\program files\\lib\\site-packages (from lets-plot<5.0.0,>=4.0.1->pyfixest) (0.20220715.0)\n",
      "Requirement already satisfied: palettable in d:\\program files\\lib\\site-packages (from lets-plot<5.0.0,>=4.0.1->pyfixest) (3.3.3)\n",
      "Requirement already satisfied: llvmlite<0.42,>=0.41.0dev0 in d:\\program files\\lib\\site-packages (from numba<0.59.0,>=0.58.0->pyfixest) (0.41.1)\n",
      "Requirement already satisfied: python-dateutil>=2.8.2 in d:\\program files\\lib\\site-packages (from pandas>=1.1.0->pyfixest) (2.8.2)\n",
      "Requirement already satisfied: pytz>=2020.1 in d:\\program files\\lib\\site-packages (from pandas>=1.1.0->pyfixest) (2023.3.post1)\n",
      "Requirement already satisfied: tzdata>=2022.1 in d:\\program files\\lib\\site-packages (from pandas>=1.1.0->pyfixest) (2023.3)\n",
      "Requirement already satisfied: iniconfig in d:\\program files\\lib\\site-packages (from pytest<8.0.0,>=7.0.0->pyfixest) (1.1.1)\n",
      "Requirement already satisfied: packaging in d:\\program files\\lib\\site-packages (from pytest<8.0.0,>=7.0.0->pyfixest) (23.1)\n",
      "Requirement already satisfied: pluggy<2.0,>=0.12 in d:\\program files\\lib\\site-packages (from pytest<8.0.0,>=7.0.0->pyfixest) (1.0.0)\n",
      "Requirement already satisfied: colorama in d:\\program files\\lib\\site-packages (from pytest<8.0.0,>=7.0.0->pyfixest) (0.4.6)\n",
      "Requirement already satisfied: poetry<2.0.0,>=1.4.2 in d:\\program files\\lib\\site-packages (from wildboottest>=0.2->pyfixest) (1.7.0)\n",
      "Requirement already satisfied: statsmodels>=0.13 in d:\\program files\\lib\\site-packages (from wildboottest>=0.2->pyfixest) (0.14.0)\n",
      "Requirement already satisfied: build<2.0.0,>=1.0.3 in d:\\program files\\lib\\site-packages (from poetry<2.0.0,>=1.4.2->wildboottest>=0.2->pyfixest) (1.0.3)\n",
      "Requirement already satisfied: cachecontrol[filecache]<0.14.0,>=0.13.0 in d:\\program files\\lib\\site-packages (from poetry<2.0.0,>=1.4.2->wildboottest>=0.2->pyfixest) (0.13.1)\n",
      "Requirement already satisfied: cleo<3.0.0,>=2.1.0 in d:\\program files\\lib\\site-packages (from poetry<2.0.0,>=1.4.2->wildboottest>=0.2->pyfixest) (2.1.0)\n",
      "Requirement already satisfied: crashtest<0.5.0,>=0.4.1 in d:\\program files\\lib\\site-packages (from poetry<2.0.0,>=1.4.2->wildboottest>=0.2->pyfixest) (0.4.1)\n",
      "Requirement already satisfied: dulwich<0.22.0,>=0.21.2 in d:\\program files\\lib\\site-packages (from poetry<2.0.0,>=1.4.2->wildboottest>=0.2->pyfixest) (0.21.6)\n",
      "Requirement already satisfied: fastjsonschema<3.0.0,>=2.18.0 in d:\\program files\\lib\\site-packages (from poetry<2.0.0,>=1.4.2->wildboottest>=0.2->pyfixest) (2.18.1)\n",
      "Requirement already satisfied: installer<0.8.0,>=0.7.0 in d:\\program files\\lib\\site-packages (from poetry<2.0.0,>=1.4.2->wildboottest>=0.2->pyfixest) (0.7.0)\n",
      "Requirement already satisfied: keyring<25.0.0,>=24.0.0 in d:\\program files\\lib\\site-packages (from poetry<2.0.0,>=1.4.2->wildboottest>=0.2->pyfixest) (24.2.0)\n",
      "Requirement already satisfied: pexpect<5.0.0,>=4.7.0 in d:\\program files\\lib\\site-packages (from poetry<2.0.0,>=1.4.2->wildboottest>=0.2->pyfixest) (4.8.0)\n",
      "Requirement already satisfied: pkginfo<2.0.0,>=1.9.4 in d:\\program files\\lib\\site-packages (from poetry<2.0.0,>=1.4.2->wildboottest>=0.2->pyfixest) (1.9.6)\n",
      "Requirement already satisfied: platformdirs<4.0.0,>=3.0.0 in d:\\program files\\lib\\site-packages (from poetry<2.0.0,>=1.4.2->wildboottest>=0.2->pyfixest) (3.10.0)\n",
      "Requirement already satisfied: poetry-core==1.8.1 in d:\\program files\\lib\\site-packages (from poetry<2.0.0,>=1.4.2->wildboottest>=0.2->pyfixest) (1.8.1)\n",
      "Requirement already satisfied: poetry-plugin-export<2.0.0,>=1.6.0 in d:\\program files\\lib\\site-packages (from poetry<2.0.0,>=1.4.2->wildboottest>=0.2->pyfixest) (1.6.0)\n",
      "Requirement already satisfied: pyproject-hooks<2.0.0,>=1.0.0 in d:\\program files\\lib\\site-packages (from poetry<2.0.0,>=1.4.2->wildboottest>=0.2->pyfixest) (1.0.0)\n",
      "Requirement already satisfied: requests<3.0,>=2.26 in d:\\program files\\lib\\site-packages (from poetry<2.0.0,>=1.4.2->wildboottest>=0.2->pyfixest) (2.31.0)\n",
      "Requirement already satisfied: requests-toolbelt<2,>=0.9.1 in d:\\program files\\lib\\site-packages (from poetry<2.0.0,>=1.4.2->wildboottest>=0.2->pyfixest) (1.0.0)\n",
      "Requirement already satisfied: shellingham<2.0,>=1.5 in d:\\program files\\lib\\site-packages (from poetry<2.0.0,>=1.4.2->wildboottest>=0.2->pyfixest) (1.5.4)\n",
      "Requirement already satisfied: tomlkit<1.0.0,>=0.11.4 in d:\\program files\\lib\\site-packages (from poetry<2.0.0,>=1.4.2->wildboottest>=0.2->pyfixest) (0.12.2)\n",
      "Requirement already satisfied: trove-classifiers>=2022.5.19 in d:\\program files\\lib\\site-packages (from poetry<2.0.0,>=1.4.2->wildboottest>=0.2->pyfixest) (2023.11.9)\n",
      "Requirement already satisfied: virtualenv<21.0.0,>=20.23.0 in d:\\program files\\lib\\site-packages (from poetry<2.0.0,>=1.4.2->wildboottest>=0.2->pyfixest) (20.24.6)\n",
      "Requirement already satisfied: six>=1.5 in d:\\program files\\lib\\site-packages (from python-dateutil>=2.8.2->pandas>=1.1.0->pyfixest) (1.16.0)\n",
      "Requirement already satisfied: patsy>=0.5.2 in d:\\program files\\lib\\site-packages (from statsmodels>=0.13->wildboottest>=0.2->pyfixest) (0.5.3)\n",
      "Requirement already satisfied: msgpack>=0.5.2 in d:\\program files\\lib\\site-packages (from cachecontrol[filecache]<0.14.0,>=0.13.0->poetry<2.0.0,>=1.4.2->wildboottest>=0.2->pyfixest) (1.0.3)\n",
      "Requirement already satisfied: filelock>=3.8.0 in d:\\program files\\lib\\site-packages (from cachecontrol[filecache]<0.14.0,>=0.13.0->poetry<2.0.0,>=1.4.2->wildboottest>=0.2->pyfixest) (3.13.1)\n",
      "Requirement already satisfied: rapidfuzz<4.0.0,>=3.0.0 in d:\\program files\\lib\\site-packages (from cleo<3.0.0,>=2.1.0->poetry<2.0.0,>=1.4.2->wildboottest>=0.2->pyfixest) (3.5.2)\n",
      "Requirement already satisfied: urllib3>=1.25 in d:\\program files\\lib\\site-packages (from dulwich<0.22.0,>=0.21.2->poetry<2.0.0,>=1.4.2->wildboottest>=0.2->pyfixest) (1.26.16)\n",
      "Requirement already satisfied: jaraco.classes in d:\\program files\\lib\\site-packages (from keyring<25.0.0,>=24.0.0->poetry<2.0.0,>=1.4.2->wildboottest>=0.2->pyfixest) (3.2.1)\n",
      "Requirement already satisfied: importlib-metadata>=4.11.4 in d:\\program files\\lib\\site-packages (from keyring<25.0.0,>=24.0.0->poetry<2.0.0,>=1.4.2->wildboottest>=0.2->pyfixest) (6.0.0)\n",
      "Requirement already satisfied: pywin32-ctypes>=0.2.0 in d:\\program files\\lib\\site-packages (from keyring<25.0.0,>=24.0.0->poetry<2.0.0,>=1.4.2->wildboottest>=0.2->pyfixest) (0.2.0)\n",
      "Requirement already satisfied: ptyprocess>=0.5 in d:\\program files\\lib\\site-packages (from pexpect<5.0.0,>=4.7.0->poetry<2.0.0,>=1.4.2->wildboottest>=0.2->pyfixest) (0.7.0)\n",
      "Requirement already satisfied: charset-normalizer<4,>=2 in d:\\program files\\lib\\site-packages (from requests<3.0,>=2.26->poetry<2.0.0,>=1.4.2->wildboottest>=0.2->pyfixest) (2.0.4)\n",
      "Requirement already satisfied: idna<4,>=2.5 in d:\\program files\\lib\\site-packages (from requests<3.0,>=2.26->poetry<2.0.0,>=1.4.2->wildboottest>=0.2->pyfixest) (3.4)\n",
      "Requirement already satisfied: certifi>=2017.4.17 in d:\\program files\\lib\\site-packages (from requests<3.0,>=2.26->poetry<2.0.0,>=1.4.2->wildboottest>=0.2->pyfixest) (2023.7.22)\n",
      "Requirement already satisfied: distlib<1,>=0.3.7 in d:\\program files\\lib\\site-packages (from virtualenv<21.0.0,>=20.23.0->poetry<2.0.0,>=1.4.2->wildboottest>=0.2->pyfixest) (0.3.7)\n",
      "Requirement already satisfied: zipp>=0.5 in d:\\program files\\lib\\site-packages (from importlib-metadata>=4.11.4->keyring<25.0.0,>=24.0.0->poetry<2.0.0,>=1.4.2->wildboottest>=0.2->pyfixest) (3.11.0)\n",
      "Requirement already satisfied: more-itertools in d:\\program files\\lib\\site-packages (from jaraco.classes->keyring<25.0.0,>=24.0.0->poetry<2.0.0,>=1.4.2->wildboottest>=0.2->pyfixest) (8.12.0)\n"
     ]
    }
   ],
   "source": [
    "import os\n",
    "import sys\n",
    "import warnings\n",
    "\n",
    "!pip install pyfixest \n",
    "\n",
    "import pandas as pd\n",
    "import numpy as np\n",
    "#from mizani.formatters import percent_format\n",
    "import matplotlib.pyplot as plt\n",
    "from plotnine import *\n",
    "from scipy.stats import norm\n",
    "import statsmodels.api as sm\n",
    "import statsmodels.formula.api as smf\n",
    "#from mizani import transforms\n",
    "#import Stargazer\n",
    "from IPython.core.display import HTML\n",
    "from sklearn.linear_model import LinearRegression\n",
    "#from pyfixest import models\n",
    "from datetime import datetime\n",
    "from sklearn.model_selection import cross_val_score\n",
    "from sklearn.linear_model import LinearRegression\n",
    "from sklearn.metrics import mean_squared_error, make_scorer\n",
    "from sklearn.model_selection import train_test_split\n",
    "\n",
    "warnings.filterwarnings(\"ignore\")"
   ]
  },
  {
   "cell_type": "markdown",
   "id": "7b1cefff",
   "metadata": {},
   "source": [
    "2) Importing additional packages"
   ]
  },
  {
   "cell_type": "code",
   "execution_count": 2,
   "id": "32b88d1c",
   "metadata": {},
   "outputs": [
    {
     "data": {
      "text/html": [
       "\n",
       "            <div id=\"xJThAy\"></div>\n",
       "            <script type=\"text/javascript\" data-lets-plot-script=\"library\">\n",
       "                if(!window.letsPlotCallQueue) {\n",
       "                    window.letsPlotCallQueue = [];\n",
       "                }; \n",
       "                window.letsPlotCall = function(f) {\n",
       "                    window.letsPlotCallQueue.push(f);\n",
       "                };\n",
       "                (function() {\n",
       "                    var script = document.createElement(\"script\");\n",
       "                    script.type = \"text/javascript\";\n",
       "                    script.src = \"https://cdn.jsdelivr.net/gh/JetBrains/lets-plot@v4.1.0/js-package/distr/lets-plot.min.js\";\n",
       "                    script.onload = function() {\n",
       "                        window.letsPlotCall = function(f) {f();};\n",
       "                        window.letsPlotCallQueue.forEach(function(f) {f();});\n",
       "                        window.letsPlotCallQueue = [];\n",
       "                        \n",
       "                    };\n",
       "                    script.onerror = function(event) {\n",
       "                        window.letsPlotCall = function(f) {};    // noop\n",
       "                        window.letsPlotCallQueue = [];\n",
       "                        var div = document.createElement(\"div\");\n",
       "                        div.style.color = 'darkred';\n",
       "                        div.textContent = 'Error loading Lets-Plot JS';\n",
       "                        document.getElementById(\"xJThAy\").appendChild(div);\n",
       "                    };\n",
       "                    var e = document.getElementById(\"xJThAy\");\n",
       "                    e.appendChild(script);\n",
       "                })()\n",
       "            </script>\n",
       "            "
      ]
     },
     "metadata": {},
     "output_type": "display_data"
    }
   ],
   "source": [
    "from pyfixest.estimation import feols\n",
    "from pyfixest.utils import get_data"
   ]
  },
  {
   "cell_type": "markdown",
   "id": "7e9c0977",
   "metadata": {},
   "source": [
    "3) Read the file:"
   ]
  },
  {
   "cell_type": "code",
   "execution_count": 3,
   "id": "d57cde72",
   "metadata": {},
   "outputs": [],
   "source": [
    "df=pd.read_csv(\"morg-2014-emp.csv\", low_memory=False)"
   ]
  },
  {
   "cell_type": "markdown",
   "id": "7ac45d3d",
   "metadata": {},
   "source": [
    "4. Creating new veriables for simple regressiion:"
   ]
  },
  {
   "cell_type": "code",
   "execution_count": 4,
   "id": "e3ba945e",
   "metadata": {},
   "outputs": [],
   "source": [
    "df[\"female\"] = (df.sex == 2).astype(int)\n",
    "df[\"earnings_per_hour\"] = df[\"earnwke\"] / df[\"uhours\"]\n",
    "df[\"ln_earnings_per_hour\"] = np.log(df[\"earnings_per_hour\"])"
   ]
  },
  {
   "cell_type": "markdown",
   "id": "4d3fb342",
   "metadata": {},
   "source": [
    "5. Creating addtional variables for other models:"
   ]
  },
  {
   "cell_type": "code",
   "execution_count": 5,
   "id": "15a59304",
   "metadata": {},
   "outputs": [
    {
     "name": "stdout",
     "output_type": "stream",
     "text": [
      "Created 'Masters' column.\n",
      "Created 'PhD' column.\n",
      "Created 'Married' column.\n",
      "Created 'No_children' column.\n"
     ]
    }
   ],
   "source": [
    "df[\"Masters\"]=(df.grade92==44).astype(int)\n",
    "print(\"Created 'Masters' column.\")\n",
    "\n",
    "df[\"PhD\"]=(df.grade92==46).astype(int)\n",
    "print(\"Created 'PhD' column.\")\n",
    "\n",
    "df[\"Married\"]=(df.marital<=3).astype(int)\n",
    "print(\"Created 'Married' column.\")\n",
    "\n",
    "df[\"No_children\"]=(df.chldpres==0).astype(int)\n",
    "print(\"Created 'No_children' column.\")"
   ]
  },
  {
   "cell_type": "markdown",
   "id": "6f1c7cdf",
   "metadata": {},
   "source": [
    "7. Filtering data according to chosen occupation - Chief executives"
   ]
  },
  {
   "cell_type": "code",
   "execution_count": 6,
   "id": "106c25ff",
   "metadata": {},
   "outputs": [],
   "source": [
    "CEdata=df[df[\"occ2012\"]==10].copy()  #Chief executives occupation data"
   ]
  },
  {
   "cell_type": "code",
   "execution_count": 7,
   "id": "8b34e49d",
   "metadata": {},
   "outputs": [],
   "source": [
    "target = 'ln_earnings_per_hour'\n",
    "predictors = ['female', 'age', 'Masters', 'PhD', \"Married\",\"No_children\"]"
   ]
  },
  {
   "cell_type": "code",
   "execution_count": 8,
   "id": "7042f2c4",
   "metadata": {},
   "outputs": [
    {
     "name": "stdout",
     "output_type": "stream",
     "text": [
      "1274\n"
     ]
    }
   ],
   "source": [
    "print(len(CEdata)) # for checking"
   ]
  },
  {
   "cell_type": "code",
   "execution_count": 9,
   "id": "ad576100",
   "metadata": {
    "scrolled": true
   },
   "outputs": [],
   "source": [
    "# train_data, test_data = train_test_split(CEdata, test_size=0.2, random_state=20) - in case if we want to create a model on test_ data and make predictions\n",
    "#print(len(train_data)) #for checking"
   ]
  },
  {
   "cell_type": "markdown",
   "id": "a2421490",
   "metadata": {},
   "source": [
    "9. Descriptive statistics of all data and further for test data:"
   ]
  },
  {
   "cell_type": "code",
   "execution_count": 11,
   "id": "39be26f9",
   "metadata": {},
   "outputs": [
    {
     "data": {
      "text/html": [
       "<div>\n",
       "<style scoped>\n",
       "    .dataframe tbody tr th:only-of-type {\n",
       "        vertical-align: middle;\n",
       "    }\n",
       "\n",
       "    .dataframe tbody tr th {\n",
       "        vertical-align: top;\n",
       "    }\n",
       "\n",
       "    .dataframe thead th {\n",
       "        text-align: right;\n",
       "    }\n",
       "</style>\n",
       "<table border=\"1\" class=\"dataframe\">\n",
       "  <thead>\n",
       "    <tr style=\"text-align: right;\">\n",
       "      <th></th>\n",
       "      <th>earnwke</th>\n",
       "      <th>uhours</th>\n",
       "      <th>ln_earnings_per_hour</th>\n",
       "      <th>female</th>\n",
       "      <th>age</th>\n",
       "      <th>Masters</th>\n",
       "      <th>PhD</th>\n",
       "      <th>Married</th>\n",
       "      <th>No_children</th>\n",
       "    </tr>\n",
       "  </thead>\n",
       "  <tbody>\n",
       "    <tr>\n",
       "      <th>count</th>\n",
       "      <td>1274.000000</td>\n",
       "      <td>1274.000000</td>\n",
       "      <td>1274.000000</td>\n",
       "      <td>1274.000000</td>\n",
       "      <td>1274.000000</td>\n",
       "      <td>1274.000000</td>\n",
       "      <td>1274.000000</td>\n",
       "      <td>1274.000000</td>\n",
       "      <td>1274.000000</td>\n",
       "    </tr>\n",
       "    <tr>\n",
       "      <th>mean</th>\n",
       "      <td>2013.636028</td>\n",
       "      <td>47.460754</td>\n",
       "      <td>3.642047</td>\n",
       "      <td>0.279435</td>\n",
       "      <td>49.047096</td>\n",
       "      <td>0.293564</td>\n",
       "      <td>0.030612</td>\n",
       "      <td>0.821036</td>\n",
       "      <td>0.563579</td>\n",
       "    </tr>\n",
       "    <tr>\n",
       "      <th>std</th>\n",
       "      <td>815.175259</td>\n",
       "      <td>9.654216</td>\n",
       "      <td>0.577918</td>\n",
       "      <td>0.448898</td>\n",
       "      <td>9.244313</td>\n",
       "      <td>0.455573</td>\n",
       "      <td>0.172332</td>\n",
       "      <td>0.383473</td>\n",
       "      <td>0.496136</td>\n",
       "    </tr>\n",
       "    <tr>\n",
       "      <th>min</th>\n",
       "      <td>1.000000</td>\n",
       "      <td>5.000000</td>\n",
       "      <td>-3.036554</td>\n",
       "      <td>0.000000</td>\n",
       "      <td>22.000000</td>\n",
       "      <td>0.000000</td>\n",
       "      <td>0.000000</td>\n",
       "      <td>0.000000</td>\n",
       "      <td>0.000000</td>\n",
       "    </tr>\n",
       "    <tr>\n",
       "      <th>25%</th>\n",
       "      <td>1346.000000</td>\n",
       "      <td>40.000000</td>\n",
       "      <td>3.372275</td>\n",
       "      <td>0.000000</td>\n",
       "      <td>43.000000</td>\n",
       "      <td>0.000000</td>\n",
       "      <td>0.000000</td>\n",
       "      <td>1.000000</td>\n",
       "      <td>0.000000</td>\n",
       "    </tr>\n",
       "    <tr>\n",
       "      <th>50%</th>\n",
       "      <td>2086.460000</td>\n",
       "      <td>45.000000</td>\n",
       "      <td>3.781341</td>\n",
       "      <td>0.000000</td>\n",
       "      <td>50.000000</td>\n",
       "      <td>0.000000</td>\n",
       "      <td>0.000000</td>\n",
       "      <td>1.000000</td>\n",
       "      <td>1.000000</td>\n",
       "    </tr>\n",
       "    <tr>\n",
       "      <th>75%</th>\n",
       "      <td>2884.610000</td>\n",
       "      <td>50.000000</td>\n",
       "      <td>4.055122</td>\n",
       "      <td>1.000000</td>\n",
       "      <td>56.000000</td>\n",
       "      <td>1.000000</td>\n",
       "      <td>0.000000</td>\n",
       "      <td>1.000000</td>\n",
       "      <td>1.000000</td>\n",
       "    </tr>\n",
       "    <tr>\n",
       "      <th>max</th>\n",
       "      <td>2884.610000</td>\n",
       "      <td>99.000000</td>\n",
       "      <td>6.175386</td>\n",
       "      <td>1.000000</td>\n",
       "      <td>64.000000</td>\n",
       "      <td>1.000000</td>\n",
       "      <td>1.000000</td>\n",
       "      <td>1.000000</td>\n",
       "      <td>1.000000</td>\n",
       "    </tr>\n",
       "  </tbody>\n",
       "</table>\n",
       "</div>"
      ],
      "text/plain": [
       "           earnwke       uhours  ln_earnings_per_hour       female  \\\n",
       "count  1274.000000  1274.000000           1274.000000  1274.000000   \n",
       "mean   2013.636028    47.460754              3.642047     0.279435   \n",
       "std     815.175259     9.654216              0.577918     0.448898   \n",
       "min       1.000000     5.000000             -3.036554     0.000000   \n",
       "25%    1346.000000    40.000000              3.372275     0.000000   \n",
       "50%    2086.460000    45.000000              3.781341     0.000000   \n",
       "75%    2884.610000    50.000000              4.055122     1.000000   \n",
       "max    2884.610000    99.000000              6.175386     1.000000   \n",
       "\n",
       "               age      Masters          PhD      Married  No_children  \n",
       "count  1274.000000  1274.000000  1274.000000  1274.000000  1274.000000  \n",
       "mean     49.047096     0.293564     0.030612     0.821036     0.563579  \n",
       "std       9.244313     0.455573     0.172332     0.383473     0.496136  \n",
       "min      22.000000     0.000000     0.000000     0.000000     0.000000  \n",
       "25%      43.000000     0.000000     0.000000     1.000000     0.000000  \n",
       "50%      50.000000     0.000000     0.000000     1.000000     1.000000  \n",
       "75%      56.000000     1.000000     0.000000     1.000000     1.000000  \n",
       "max      64.000000     1.000000     1.000000     1.000000     1.000000  "
      ]
     },
     "execution_count": 11,
     "metadata": {},
     "output_type": "execute_result"
    }
   ],
   "source": [
    "CEdata.loc[:, [\"earnwke\", \"uhours\", 'ln_earnings_per_hour','female', 'age', 'Masters', 'PhD', \"Married\",\"No_children\"]].describe()"
   ]
  },
  {
   "cell_type": "code",
   "execution_count": 27,
   "id": "04251ea1",
   "metadata": {},
   "outputs": [],
   "source": [
    "#train_data.loc[:, [\"earnwke\", \"uhours\", 'ln_earnings_per_hour','female', 'age', 'Masters', 'PhD', \"Married\",\"No_children\"]].describe()"
   ]
  },
  {
   "cell_type": "markdown",
   "id": "24282f36",
   "metadata": {},
   "source": [
    "10. Checking four chosen models using OLS_Fixed effect regression from PyFixest: \n",
    "    1) Simple regression (log-level) where ln_earnings_per_hour - dependent variable, female - independent variable\n",
    "    2) Multiple regression (log-level) with additional independent variable - age\n",
    "    3) Multiple regression (log-level) with additional independent variables. ln_earnings_per_hour - dependent variable,female,age, Masters, PhD, Married, No_children - independent variables\n",
    "    4) Multiple regression (log-level)with additional independent variables. ln_earnings_per_hour - dependent variable, female,age, Masters, PhD, Married, No_children - independent variables"
   ]
  },
  {
   "cell_type": "code",
   "execution_count": 28,
   "id": "dd641035",
   "metadata": {},
   "outputs": [],
   "source": [
    "model_1 = feols(fml=\"ln_earnings_per_hour~female\", data=CEdata, vcov=\"HC1\")\n",
    "\n",
    "model_2 = feols(fml=\"ln_earnings_per_hour~female+age\", data=CEdata, vcov=\"HC1\")\n",
    "\n",
    "model_3 = feols(fml=\"ln_earnings_per_hour~female+age+Masters+PhD\", data=CEdata, vcov=\"HC1\")\n",
    "\n",
    "model_4 = feols(fml=\"ln_earnings_per_hour~female+age+Masters+PhD+Married+No_children\", data=CEdata, vcov=\"HC1\")\n"
   ]
  },
  {
   "cell_type": "code",
   "execution_count": 30,
   "id": "91b98b1d",
   "metadata": {},
   "outputs": [],
   "source": [
    "CEdata[\"prediction_1\"] = model_1.predict()\n",
    "CEdata[\"prediction_2\"] = model_2.predict()\n",
    "CEdata[\"prediction_3\"] = model_3.predict()\n",
    "CEdata[\"prediction_4\"] = model_4.predict()"
   ]
  },
  {
   "cell_type": "markdown",
   "id": "29f06530",
   "metadata": {},
   "source": [
    "11. Creating tables visualizing data for models above:"
   ]
  },
  {
   "cell_type": "code",
   "execution_count": 32,
   "id": "38d53886",
   "metadata": {},
   "outputs": [
    {
     "name": "stdout",
     "output_type": "stream",
     "text": [
      "###\n",
      "\n",
      "Estimation:  OLS\n",
      "Dep. var.: ln_earnings_per_hour\n",
      "Inference:  HC1\n",
      "Observations:  1274\n",
      "\n",
      "| Coefficient   |   Estimate |   Std. Error |   t value |   Pr(>|t|) |   2.5 % |   97.5 % |\n",
      "|:--------------|-----------:|-------------:|----------:|-----------:|--------:|---------:|\n",
      "| Intercept     |      3.692 |        0.016 |   233.508 |      0.000 |   3.661 |    3.723 |\n",
      "| female        |     -0.178 |        0.043 |    -4.112 |      0.000 |  -0.264 |   -0.093 |\n",
      "---\n",
      "RMSE: 0.572  Adj. R2: 0.018  Adj. R2 Within: 0.018\n",
      "None\n",
      "###\n",
      "\n",
      "Estimation:  OLS\n",
      "Dep. var.: ln_earnings_per_hour\n",
      "Inference:  HC1\n",
      "Observations:  1274\n",
      "\n",
      "| Coefficient   |   Estimate |   Std. Error |   t value |   Pr(>|t|) |   2.5 % |   97.5 % |\n",
      "|:--------------|-----------:|-------------:|----------:|-----------:|--------:|---------:|\n",
      "| Intercept     |      3.483 |        0.095 |    36.610 |      0.000 |   3.297 |    3.670 |\n",
      "| female        |     -0.173 |        0.043 |    -3.990 |      0.000 |  -0.257 |   -0.088 |\n",
      "| age           |      0.004 |        0.002 |     2.240 |      0.025 |   0.001 |    0.008 |\n",
      "---\n",
      "RMSE: 0.571  Adj. R2: 0.021  Adj. R2 Within: 0.021\n",
      "None\n",
      "###\n",
      "\n",
      "Estimation:  OLS\n",
      "Dep. var.: ln_earnings_per_hour\n",
      "Inference:  HC1\n",
      "Observations:  1274\n",
      "\n",
      "| Coefficient   |   Estimate |   Std. Error |   t value |   Pr(>|t|) |   2.5 % |   97.5 % |\n",
      "|:--------------|-----------:|-------------:|----------:|-----------:|--------:|---------:|\n",
      "| Intercept     |      3.425 |        0.094 |    36.582 |      0.000 |   3.242 |    3.609 |\n",
      "| female        |     -0.155 |        0.042 |    -3.686 |      0.000 |  -0.238 |   -0.073 |\n",
      "| age           |      0.004 |        0.002 |     2.117 |      0.034 |   0.000 |    0.008 |\n",
      "| Masters       |      0.217 |        0.029 |     7.399 |      0.000 |   0.160 |    0.275 |\n",
      "| PhD           |      0.160 |        0.072 |     2.234 |      0.026 |   0.019 |    0.300 |\n",
      "---\n",
      "RMSE: 0.562  Adj. R2: 0.05  Adj. R2 Within: 0.05\n",
      "None\n",
      "###\n",
      "\n",
      "Estimation:  OLS\n",
      "Dep. var.: ln_earnings_per_hour\n",
      "Inference:  HC1\n",
      "Observations:  1274\n",
      "\n",
      "| Coefficient   |   Estimate |   Std. Error |   t value |   Pr(>|t|) |   2.5 % |   97.5 % |\n",
      "|:--------------|-----------:|-------------:|----------:|-----------:|--------:|---------:|\n",
      "| Intercept     |      3.365 |        0.098 |    34.326 |      0.000 |   3.173 |    3.557 |\n",
      "| female        |     -0.138 |        0.043 |    -3.201 |      0.001 |  -0.223 |   -0.054 |\n",
      "| age           |      0.006 |        0.002 |     3.126 |      0.002 |   0.002 |    0.010 |\n",
      "| Masters       |      0.209 |        0.029 |     7.137 |      0.000 |   0.151 |    0.266 |\n",
      "| PhD           |      0.149 |        0.071 |     2.101 |      0.036 |   0.010 |    0.288 |\n",
      "| Married       |      0.022 |        0.044 |     0.500 |      0.617 |  -0.064 |    0.109 |\n",
      "| No_children   |     -0.113 |        0.035 |    -3.196 |      0.001 |  -0.182 |   -0.043 |\n",
      "---\n",
      "RMSE: 0.559  Adj. R2: 0.057  Adj. R2 Within: 0.057\n",
      "None\n"
     ]
    }
   ],
   "source": [
    "print(model_1.summary())\n",
    "print(model_2.summary())\n",
    "print(model_3.summary())\n",
    "print(model_4.summary())"
   ]
  },
  {
   "cell_type": "markdown",
   "id": "a4cb6bf9",
   "metadata": {},
   "source": [
    "12. Calculating RMSE:"
   ]
  },
  {
   "cell_type": "code",
   "execution_count": 33,
   "id": "473e798d",
   "metadata": {},
   "outputs": [
    {
     "name": "stdout",
     "output_type": "stream",
     "text": [
      "RMSE Scores: [0.666921690698013, 0.6666546509022213, 0.6590703265105297, 0.636887071070966]\n"
     ]
    }
   ],
   "source": [
    "# Calculate RMSE and display \n",
    "rmse_scores = [np.sqrt(mean_squared_error(test_data[\"ln_earnings_per_hour\"], test_data[f\"prediction_{i+1}\"])) for i in range(4)]\n",
    "print(\"RMSE Scores:\", rmse_scores)"
   ]
  },
  {
   "cell_type": "markdown",
   "id": "da845609",
   "metadata": {},
   "source": [
    "13. Here I should calculate BIC scores, however I could not do it for 'feols' module, so I calculated it manually through another regression command:"
   ]
  },
  {
   "cell_type": "code",
   "execution_count": 34,
   "id": "4078d711",
   "metadata": {},
   "outputs": [
    {
     "name": "stdout",
     "output_type": "stream",
     "text": [
      "BIC Scores: [-167.7365548713969, -167.61767111968874, -173.04803956836986, -177.95385083167213]\n"
     ]
    }
   ],
   "source": [
    "reg1 = smf.ols(formula=\"ln_earnings_per_hour~female\", data=train_data).fit(cov_type=\"HC1\")\n",
    "reg2 = smf.ols(formula=\"ln_earnings_per_hour~female+age\", data=train_data).fit(cov_type=\"HC1\")\n",
    "reg3 = smf.ols(formula=\"ln_earnings_per_hour~female+age+Masters+PhD\", data=train_data).fit(cov_type=\"HC1\")\n",
    "reg4 = smf.ols(formula=\"ln_earnings_per_hour~female+age+Masters+PhD+Married+No_children\", data=train_data).fit(cov_type=\"HC1\")\n",
    "\n",
    "regs_list=[reg1,reg2,reg3,reg4]\n",
    "\n",
    "n = len(test_data)\n",
    "k = len(predictors) + 1  # Number of predictors + intercept\n",
    "bic_scores = [n * np.log(mean_squared_error(test_data[\"ln_earnings_per_hour\"], reg.predict(test_data[predictors]))) + k * np.log(n) for reg in regs_list]\n",
    "print(\"BIC Scores:\", bic_scores)"
   ]
  },
  {
   "cell_type": "markdown",
   "id": "862bafef",
   "metadata": {},
   "source": [
    "14. Visualization of the Relationship between Model Complexity and RMSE:"
   ]
  },
  {
   "cell_type": "code",
   "execution_count": 19,
   "id": "db2cedc9",
   "metadata": {},
   "outputs": [
    {
     "data": {
      "image/png": "[encoded data removed]",
      "text/plain": [
       "<Figure size 640x480 with 1 Axes>"
      ]
     },
     "metadata": {},
     "output_type": "display_data"
    }
   ],
   "source": [
    "model_complexity = [1, 2, 3, 4]\n",
    "plt.plot(model_complexity, rmse_scores, marker='o')\n",
    "\n",
    "for i, txt in enumerate(rmse_scores):\n",
    "    plt.annotate(f'{txt:.4f}', (model_complexity[i], rmse_scores[i]))\n",
    "\n",
    "plt.xlabel('Model Complexity')\n",
    "plt.ylabel('RMSE')\n",
    "plt.title('Relationship between Model Complexity and RMSE')\n",
    "plt.show()"
   ]
  }
 ],
 "metadata": {
  "kernelspec": {
   "display_name": "Python 3 (ipykernel)",
   "language": "python",
   "name": "python3"
  },
  "language_info": {
   "codemirror_mode": {
    "name": "ipython",
    "version": 3
   },
   "file_extension": ".py",
   "mimetype": "text/x-python",
   "name": "python",
   "nbconvert_exporter": "python",
   "pygments_lexer": "ipython3",
   "version": "3.11.5"
  }
 },
 "nbformat": 4,
 "nbformat_minor": 5
}
